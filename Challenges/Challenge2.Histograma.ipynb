{
 "cells": [
  {
   "attachments": {},
   "cell_type": "markdown",
   "metadata": {},
   "source": [
    "## PROGRAMACIÓN I\n",
    "\n",
    "Nombre: Madeleine Yameli Romero Rayas\n",
    "\n",
    "Código: 207549458\n",
    "\n",
    "Maestría en Ciencia de los Datos (CUCEA)"
   ]
  },
  {
   "attachments": {},
   "cell_type": "markdown",
   "metadata": {},
   "source": [
    "## Desafío 2: Generador de Histograma\n",
    "Crear un programa que tome una lista de números y genere un histograma basado en esos números, usando asteriscos para crear las barras del histograma.\n"
   ]
  },
  {
   "cell_type": "code",
   "execution_count": 11,
   "metadata": {},
   "outputs": [
    {
     "name": "stdout",
     "output_type": "stream",
     "text": [
      "\n",
      "*\n",
      "**\n",
      "***\n",
      "****\n",
      "*****\n",
      "******\n",
      "*******\n",
      "********\n",
      "*********\n",
      "**********\n",
      "*********\n",
      "********\n",
      "*******\n",
      "******\n",
      "*****\n",
      "****\n",
      "***\n",
      "**\n",
      "*\n",
      "\n"
     ]
    }
   ],
   "source": [
    "#Se genera una lista, en este caso se colocarón números simétricos para que el histograma tenga una forma simétrica también\n",
    "lista = [0,1,2,3,4,5,6,7,8,9,10,9,8,7,6,5,4,3,2,1,0]\n",
    "\n",
    "#Se hace un ciclo for que recorra cada número de la lista, imprime la multiplicación del \"*\" por el número de cada iteración, lo que dará como resultado un número de \"*\" igual al número de la iteración\n",
    "for numero in lista:\n",
    "    print(\"*\"*numero)"
   ]
  }
 ],
 "metadata": {
  "kernelspec": {
   "display_name": "progra_1",
   "language": "python",
   "name": "python3"
  },
  "language_info": {
   "codemirror_mode": {
    "name": "ipython",
    "version": 3
   },
   "file_extension": ".py",
   "mimetype": "text/x-python",
   "name": "python",
   "nbconvert_exporter": "python",
   "pygments_lexer": "ipython3",
   "version": "3.8.17"
  },
  "orig_nbformat": 4
 },
 "nbformat": 4,
 "nbformat_minor": 2
}
