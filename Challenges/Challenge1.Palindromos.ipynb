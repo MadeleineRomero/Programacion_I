{
 "cells": [
  {
   "attachments": {},
   "cell_type": "markdown",
   "metadata": {},
   "source": [
    "## PROGRAMACIÓN I\n",
    "\n",
    "Nombre: Madeleine Yameli Romero Rayas\n",
    "\n",
    "Código: 207549458\n",
    "\n",
    "Maestría en Ciencia de los Datos (CUCEA)"
   ]
  },
  {
   "attachments": {},
   "cell_type": "markdown",
   "metadata": {},
   "source": [
    "## Desafío 1: Palíndromos\n",
    "Un palíndromo es una palabra o frase que se lee igual de adelante hacia atrás que de atrás hacia adelante, ignorando los espacios, puntuación y capitalización. El desafío es crear un programa que tome una cadena ingresada por el usuario y determine si es un palíndromo.\n"
   ]
  },
  {
   "cell_type": "code",
   "execution_count": 4,
   "metadata": {},
   "outputs": [
    {
     "name": "stdout",
     "output_type": "stream",
     "text": [
      "La palabra aseo no es un palíndromo\n"
     ]
    }
   ],
   "source": [
    "palabra = input(\"Escribe una palabra para verificar si es un palíndromo: \")\n",
    "nueva_palabra = \"\"\n",
    "\n",
    "for letra in palabra:\n",
    "    if(letra.isalpha()):\n",
    "        nueva_palabra+=letra\n",
    "\n",
    "if nueva_palabra == nueva_palabra[::-1]:\n",
    "    print(\"La palabra \" + nueva_palabra + \" es un palíndromo\")\n",
    "else:\n",
    "    print(\"La palabra \" + nueva_palabra + \" no es un palíndromo\")\n"
   ]
  }
 ],
 "metadata": {
  "kernelspec": {
   "display_name": "progra_1",
   "language": "python",
   "name": "python3"
  },
  "language_info": {
   "codemirror_mode": {
    "name": "ipython",
    "version": 3
   },
   "file_extension": ".py",
   "mimetype": "text/x-python",
   "name": "python",
   "nbconvert_exporter": "python",
   "pygments_lexer": "ipython3",
   "version": "3.8.17"
  },
  "orig_nbformat": 4
 },
 "nbformat": 4,
 "nbformat_minor": 2
}
