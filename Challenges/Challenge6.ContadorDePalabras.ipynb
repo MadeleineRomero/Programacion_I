{
 "cells": [
  {
   "cell_type": "markdown",
   "metadata": {},
   "source": [
    "## PROGRAMACIÓN I\n",
    "\n",
    "Nombre: Madeleine Yameli Romero Rayas\n",
    "\n",
    "Código: 207549458\n",
    "\n",
    "Maestría en Ciencia de los Datos (CUCEA)"
   ]
  },
  {
   "cell_type": "markdown",
   "metadata": {},
   "source": [
    "## Desafío 6: Contador de Palabras\n",
    "\n",
    "Crea un script que lea un archivo de texto y cuente el número de ocurrencias de cada palabra en el archivo. Luego, deberá escribir estas estadísticas en un nuevo archivo.\n"
   ]
  },
  {
   "cell_type": "code",
   "execution_count": 4,
   "metadata": {},
   "outputs": [
    {
     "name": "stdout",
     "output_type": "stream",
     "text": [
      "Por favor, elija el archivo de texto que quiere analizar.\n",
      "Por favor, elija el nombre y la ubicación del archivo de estadísticas que desea crear.\n",
      "Las estadísticas han sido creadas con éxito.\n"
     ]
    }
   ],
   "source": [
    "# Importamos los módulos necesarios\n",
    "import os\n",
    "import string\n",
    "\n",
    "# Definimos las constantes\n",
    "extension = \".txt\"\n",
    "puntuacion_español = string.punctuation + \"¿¡\"\n",
    "\n",
    "# Definimos las funciones\n",
    "def pedir_archivo(mensaje):\n",
    "    \"\"\"Pide al usuario el nombre y la ubicación de un archivo.\"\"\"\n",
    "    print(mensaje)\n",
    "    nombre = input(\"Nombre del archivo sin extensión: \").strip()\n",
    "    ubicacion = input(\"Ubicación del archivo: \").strip()\n",
    "    return nombre, ubicacion\n",
    "\n",
    "def crear_ruta(nombre, ubicacion):\n",
    "    \"\"\"Crea una ruta completa a un archivo.\"\"\"\n",
    "    nombre = nombre + extension\n",
    "    ruta = os.path.join(ubicacion, nombre)\n",
    "    return ruta\n",
    "\n",
    "def contar_palabras(texto):\n",
    "    \"\"\"Cuenta las ocurrencias de cada palabra en un texto.\"\"\"\n",
    "    # Convertimos el texto a minúsculas\n",
    "    texto = texto.lower()\n",
    "    # Eliminamos los signos de puntuación\n",
    "    tabla = str.maketrans(\"\", \"\", puntuacion_español)\n",
    "    texto = texto.translate(tabla)\n",
    "    # Dividimos el texto en palabras\n",
    "    palabras = texto.split()\n",
    "    # Creamos un diccionario vacío para almacenar las ocurrencias\n",
    "    ocurrencias = {}\n",
    "    # Recorremos las palabras del texto\n",
    "    for palabra in palabras:\n",
    "        # Incrementamos el contador de la palabra o lo iniciamos en 1\n",
    "        ocurrencias[palabra] = ocurrencias.get(palabra, 0) + 1\n",
    "    return ocurrencias\n",
    "\n",
    "# Pedimos al usuario que elija el archivo de texto\n",
    "nombre, ubicacion = pedir_archivo(\"Por favor, elija el archivo de texto que quiere analizar.\")\n",
    "# Creamos una ruta al archivo de texto\n",
    "ruta = crear_ruta(nombre, ubicacion)\n",
    "# Abrimos el archivo de texto en modo lectura\n",
    "with open(ruta, \"r\") as f:\n",
    "    # Leemos el contenido del archivo\n",
    "    texto = f.read()\n",
    "\n",
    "# Contamos las palabras del texto\n",
    "ocurrencias = contar_palabras(texto)\n",
    "# Ordenamos el diccionario de ocurrencias por el valor de las palabras\n",
    "ocurrencias = sorted(ocurrencias.items(), key=lambda x: x[1], reverse=True)\n",
    "\n",
    "# Pedimos al usuario que elija el nombre y la ubicación del archivo de estadísticas\n",
    "nuevo_nombre, nueva_ubicacion = pedir_archivo(\"Por favor, elija el nombre y la ubicación del archivo de estadísticas que desea crear.\")\n",
    "# Creamos una ruta al nuevo archivo\n",
    "nueva_ruta = crear_ruta(nuevo_nombre, nueva_ubicacion)\n",
    "# Abrimos el nuevo archivo en modo escritura\n",
    "with open(nueva_ruta, \"w\") as f:\n",
    "    # Escribimos las estadísticas de cada palabra en el nuevo archivo\n",
    "    for palabra, contador in ocurrencias:\n",
    "        f.write(f\"{palabra}: {contador}\\n\")\n",
    "\n",
    "# Mostramos un mensaje de éxito\n",
    "print(\"Las estadísticas han sido creadas con éxito.\")\n"
   ]
  }
 ],
 "metadata": {
  "kernelspec": {
   "display_name": "progra_1",
   "language": "python",
   "name": "python3"
  },
  "language_info": {
   "codemirror_mode": {
    "name": "ipython",
    "version": 3
   },
   "file_extension": ".py",
   "mimetype": "text/x-python",
   "name": "python",
   "nbconvert_exporter": "python",
   "pygments_lexer": "ipython3",
   "version": "3.8.17"
  },
  "orig_nbformat": 4
 },
 "nbformat": 4,
 "nbformat_minor": 2
}
