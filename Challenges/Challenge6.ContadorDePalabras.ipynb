{
 "cells": [
  {
   "cell_type": "markdown",
   "metadata": {},
   "source": [
    "## PROGRAMACIÓN I\n",
    "\n",
    "Nombre: Madeleine Yameli Romero Rayas\n",
    "\n",
    "Código: 207549458\n",
    "\n",
    "Maestría en Ciencia de los Datos (CUCEA)"
   ]
  },
  {
   "cell_type": "markdown",
   "metadata": {},
   "source": [
    "## Desafío 6: Contador de Palabras\n",
    "\n",
    "Crea un script que lea un archivo de texto y cuente el número de ocurrencias de cada palabra en el archivo. Luego, deberá escribir estas estadísticas en un nuevo archivo.\n"
   ]
  },
  {
   "cell_type": "code",
   "execution_count": 3,
   "metadata": {},
   "outputs": [
    {
     "name": "stdout",
     "output_type": "stream",
     "text": [
      "Por favor, elija el archivo de texto y su ubicación.\n",
      "Por favor, elija el nombre y la ubicación del nuevo archivo.\n",
      "El nuevo archivo ha sido creado con éxito.\n"
     ]
    }
   ],
   "source": [
    "# Importamos el módulo os para acceder al sistema de archivos\n",
    "import os\n",
    "\n",
    "# Pedimos al usuario que elija el archivo de texto y su ubicación\n",
    "print(\"Por favor, elija el archivo de texto y su ubicación.\")\n",
    "archivo = input(\"Nombre del archivo .txt sin extensión: \")\n",
    "ubicacion = input(\"Indique la ubicación del archivo: \")\n",
    "\n",
    "# Agregamos la extensión al nombre de archivo ingresado por el usuario\n",
    "archivo = archivo + \".txt\"\n",
    "\n",
    "# Creamos una ruta completa al archivo\n",
    "ruta = os.path.join(ubicacion, archivo)\n",
    "\n",
    "# Abrimos el archivo en modo lectura\n",
    "with open(ruta, \"r\") as f:\n",
    "    # Leemos el contenido del archivo\n",
    "    texto = f.read()\n",
    "    # Convertimos el texto a minúsculas\n",
    "    texto = texto.lower()\n",
    "    # Eliminamos los signos de puntuación\n",
    "    texto = texto.replace(\".\", \"\").replace(\",\", \"\").replace(\":\", \"\").replace(\";\", \"\").replace(\"?\", \"\").replace(\"!\", \"\").replace('\"', \"\").replace(\"'\", \"\")\n",
    "    # Dividimos el texto en palabras\n",
    "    palabras = texto.split()\n",
    "    # Creamos un diccionario vacío para almacenar las ocurrencias de cada palabra\n",
    "    ocurrencias = {}\n",
    "    # Recorremos las palabras del texto\n",
    "    for palabra in palabras:\n",
    "        # Si la palabra ya está en el diccionario, incrementamos su contador\n",
    "        if palabra in ocurrencias:\n",
    "            ocurrencias[palabra] += 1\n",
    "        # Si no, la añadimos al diccionario con el valor 1\n",
    "        else:\n",
    "            ocurrencias[palabra] = 1\n",
    "\n",
    "# Pedimos al usuario que elija el nombre y la ubicación del archivo de estadísticas\n",
    "print(\"Por favor, elija el nombre y la ubicación del archivo de estadísticas.\")\n",
    "nuevo_archivo = input(\"Nombre del nuevo archivo: \")\n",
    "nueva_ubicacion = input(\"Ubicación del nuevo archivo: \")\n",
    "\n",
    "# Agregamos la extensión al nombre del nuevo archivo\n",
    "nuevo_archivo = nuevo_archivo + \".txt\"\n",
    "\n",
    "# Creamos una ruta completa al nuevo archivo\n",
    "nueva_ruta = os.path.join(nueva_ubicacion, nuevo_archivo)\n",
    "\n",
    "# Abrimos el nuevo archivo en modo escritura\n",
    "with open(nueva_ruta, \"w\") as f:\n",
    "    # Escribimos las estadísticas de cada palabra en el nuevo archivo\n",
    "    for palabra, contador in ocurrencias.items():\n",
    "        f.write(f\"{palabra}: {contador}\\n\")\n",
    "\n",
    "# Mostramos un mensaje de éxito\n",
    "print(\"Las estadísticas han sido creadas con éxito.\")\n"
   ]
  }
 ],
 "metadata": {
  "kernelspec": {
   "display_name": "progra_1",
   "language": "python",
   "name": "python3"
  },
  "language_info": {
   "codemirror_mode": {
    "name": "ipython",
    "version": 3
   },
   "file_extension": ".py",
   "mimetype": "text/x-python",
   "name": "python",
   "nbconvert_exporter": "python",
   "pygments_lexer": "ipython3",
   "version": "3.8.17"
  },
  "orig_nbformat": 4
 },
 "nbformat": 4,
 "nbformat_minor": 2
}
