{
 "cells": [
  {
   "cell_type": "markdown",
   "metadata": {},
   "source": [
    "## PROGRAMACIÓN I\n",
    "\n",
    "Nombre: Madeleine Yameli Romero Rayas\n",
    "\n",
    "Código: 207549458\n",
    "\n",
    "Maestría en Ciencia de los Datos (CUCEA)"
   ]
  },
  {
   "cell_type": "markdown",
   "metadata": {},
   "source": [
    "## Desafío 7: Copia de archivos con filtrado\n",
    "\n",
    "Crea un script que copie un archivo a otro, pero que excluya todas las líneas que contengan una palabra prohibida especificada por el usuario.\n"
   ]
  },
  {
   "cell_type": "code",
   "execution_count": 2,
   "metadata": {},
   "outputs": [
    {
     "name": "stdout",
     "output_type": "stream",
     "text": [
      "Ejemplo del formato de ruta solicitado: C:\\Users\\user1\\Documents\\Folder1\\Nombre_del_archivo_de_origen.txt \n",
      "Ejemplo del formato de ruta solicitado: C:\\Users\\user1\\Documents\\Folder1\\Nombre_del_archivo_de_destino.txt \n",
      "El archivo se ha copiado con éxito, excluyendo las líneas con la palabra refinar\n"
     ]
    }
   ],
   "source": [
    "# Pedir al usuario el nombre y la ruta del archivo de origen\n",
    "print(r\"Ejemplo del formato de ruta solicitado: C:\\Users\\user1\\Documents\\Folder1\\Nombre_del_archivo_de_origen.txt \")\n",
    "origen = input(\"Ingrese la ruta y nombre del archivo .txt de origen (incluyendo la extensión): \")\n",
    "\n",
    "\n",
    "# Pedir al usuario el nombre y la ruta del archivo de destino\n",
    "print(r\"Ejemplo del formato de ruta solicitado: C:\\Users\\user1\\Documents\\Folder1\\Nombre_del_archivo_de_destino.txt \")\n",
    "destino = input(\"Ingrese la ruta y el nombre del archivo .txt de destino (incluyendo la extensión): \")\n",
    "\n",
    "\n",
    "# Pedir al usuario la palabra prohibida\n",
    "prohibida = input(\"Ingrese la palabra prohibida: \")\n",
    "\n",
    "# Abrir el archivo de origen en modo lectura\n",
    "archivo_origen = open(origen, \"r\")\n",
    "\n",
    "# Abrir el archivo de destino en modo escritura\n",
    "archivo_destino = open(destino, \"w\")\n",
    "\n",
    "# Recorrer cada línea del archivo de origen\n",
    "for linea in archivo_origen:\n",
    "    # Verificar si la línea contiene la palabra prohibida, ignorando mayúsculas y minúsculas\n",
    "    if prohibida.lower() not in linea.lower():\n",
    "        # Escribir la línea en el archivo de destino\n",
    "        archivo_destino.write(linea)\n",
    "\n",
    "# Cerrar los archivos\n",
    "archivo_origen.close()\n",
    "archivo_destino.close()\n",
    "\n",
    "# Mostrar un mensaje de éxito\n",
    "print(\"El archivo se ha copiado con éxito, excluyendo las líneas con la palabra \" + prohibida)"
   ]
  }
 ],
 "metadata": {
  "kernelspec": {
   "display_name": "progra_1",
   "language": "python",
   "name": "python3"
  },
  "language_info": {
   "codemirror_mode": {
    "name": "ipython",
    "version": 3
   },
   "file_extension": ".py",
   "mimetype": "text/x-python",
   "name": "python",
   "nbconvert_exporter": "python",
   "pygments_lexer": "ipython3",
   "version": "3.8.17"
  },
  "orig_nbformat": 4
 },
 "nbformat": 4,
 "nbformat_minor": 2
}
