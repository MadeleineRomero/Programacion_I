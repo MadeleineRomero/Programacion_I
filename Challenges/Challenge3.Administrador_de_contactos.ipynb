{
 "cells": [
  {
   "cell_type": "markdown",
   "metadata": {},
   "source": [
    "## PROGRAMACIÓN I\n",
    "\n",
    "Nombre: Madeleine Yameli Romero Rayas\n",
    "\n",
    "Código: 207549458\n",
    "\n",
    "Maestría en Ciencia de los Datos (CUCEA)"
   ]
  },
  {
   "cell_type": "markdown",
   "metadata": {},
   "source": [
    "## Desafío 3: Administrador de contactos\n",
    "Crea un programa que permita administrar una lista de contactos. Cada contacto deberá tener un nombre, un número de teléfono y una dirección de correo electrónico. El programa deberá ofrecer las siguientes funcionalidades:\n",
    "1.\tAgregar un contacto nuevo\n",
    "2.\tVer la lista de contactos\n",
    "3.\tBuscar un contacto por nombre\n",
    "4.\tEliminar un contacto por nombre\n",
    "\n",
    "\n",
    "Usa listas y tuplas para almacenar los contactos y un diccionario para almacenar la información de cada contacto. También deberás crear distintas funciones para cada una de las funcionalidades.\n"
   ]
  },
  {
   "cell_type": "code",
   "execution_count": 1,
   "metadata": {},
   "outputs": [
    {
     "name": "stdout",
     "output_type": "stream",
     "text": [
      "Selecciona una opción:\n",
      "1. Agregar un contacto nuevo\n",
      "2. Ver la lista de contactos\n",
      "3. Buscar un contacto por nombre\n",
      "4. Eliminar un contacto por nombre\n",
      "Selecciona una opción:\n",
      "1. Agregar un contacto nuevo\n",
      "2. Ver la lista de contactos\n",
      "3. Buscar un contacto por nombre\n",
      "4. Eliminar un contacto por nombre\n",
      "Lista de contactos:\n",
      "Madeleine: 3315328576, madeleine@alumno.udg.mx\n",
      "Selecciona una opción:\n",
      "1. Agregar un contacto nuevo\n",
      "2. Ver la lista de contactos\n",
      "3. Buscar un contacto por nombre\n",
      "4. Eliminar un contacto por nombre\n",
      "Madeleine: 3315328576, madeleine@alumno.udg.mx\n",
      "Selecciona una opción:\n",
      "1. Agregar un contacto nuevo\n",
      "2. Ver la lista de contactos\n",
      "3. Buscar un contacto por nombre\n",
      "4. Eliminar un contacto por nombre\n",
      "El contacto Madeleine ha sido eliminado\n",
      "Selecciona una opción:\n",
      "1. Agregar un contacto nuevo\n",
      "2. Ver la lista de contactos\n",
      "3. Buscar un contacto por nombre\n",
      "4. Eliminar un contacto por nombre\n",
      "Lista de contactos:\n",
      "Selecciona una opción:\n",
      "1. Agregar un contacto nuevo\n",
      "2. Ver la lista de contactos\n",
      "3. Buscar un contacto por nombre\n",
      "4. Eliminar un contacto por nombre\n"
     ]
    }
   ],
   "source": [
    "def agregar_contacto(contactos):\n",
    "    nombre = input(\"Ingresa el nombre del contacto: \")\n",
    "    telefono = input(\"Ingresa el número de teléfono del contacto: \")\n",
    "    correo = input(\"Ingresa la dirección de correo electrónico del contacto: \")\n",
    "    contactos[nombre] = (telefono, correo)\n",
    "\n",
    "def ver_contactos(contactos):\n",
    "    print(\"Lista de contactos:\")\n",
    "    for nombre, (telefono, correo) in contactos.items():\n",
    "        print(f\"{nombre}: {telefono}, {correo}\")\n",
    "\n",
    "def buscar_contacto(contactos):\n",
    "    nombre = input(\"Ingresa el nombre del contacto que deseas buscar: \")\n",
    "    if nombre in contactos:\n",
    "        telefono, correo = contactos[nombre]\n",
    "        print(f\"{nombre}: {telefono}, {correo}\")\n",
    "    else:\n",
    "        print(f\"No se encontró ningún contacto con el nombre {nombre}\")\n",
    "\n",
    "def eliminar_contacto(contactos):\n",
    "    nombre = input(\"Ingresa el nombre del contacto que deseas eliminar: \")\n",
    "    if nombre in contactos:\n",
    "        del contactos[nombre]\n",
    "        print(f\"El contacto {nombre} ha sido eliminado\")\n",
    "    else:\n",
    "        print(f\"No se encontró ningún contacto con el nombre {nombre}\")\n",
    "\n",
    "def main():\n",
    "    contactos = {}\n",
    "    while True:\n",
    "        print(\"Selecciona una opción:\")\n",
    "        print(\"1. Agregar un contacto nuevo\")\n",
    "        print(\"2. Ver la lista de contactos\")\n",
    "        print(\"3. Buscar un contacto por nombre\")\n",
    "        print(\"4. Eliminar un contacto por nombre\")\n",
    "        opcion = input(\"Ingresa el número de la opción que deseas: \")\n",
    "        if opcion == \"1\":\n",
    "            agregar_contacto(contactos)\n",
    "        elif opcion == \"2\":\n",
    "            ver_contactos(contactos)\n",
    "        elif opcion == \"3\":\n",
    "            buscar_contacto(contactos)\n",
    "        elif opcion == \"4\":\n",
    "            eliminar_contacto(contactos)\n",
    "        else:\n",
    "            break\n",
    "\n",
    "if __name__ == \"__main__\":\n",
    "    main()\n"
   ]
  }
 ],
 "metadata": {
  "kernelspec": {
   "display_name": "progra_1",
   "language": "python",
   "name": "python3"
  },
  "language_info": {
   "codemirror_mode": {
    "name": "ipython",
    "version": 3
   },
   "file_extension": ".py",
   "mimetype": "text/x-python",
   "name": "python",
   "nbconvert_exporter": "python",
   "pygments_lexer": "ipython3",
   "version": "3.8.17"
  },
  "orig_nbformat": 4
 },
 "nbformat": 4,
 "nbformat_minor": 2
}
