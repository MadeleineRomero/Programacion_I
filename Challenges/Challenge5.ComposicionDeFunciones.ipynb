{
 "cells": [
  {
   "cell_type": "markdown",
   "metadata": {},
   "source": [
    "## PROGRAMACIÓN I\n",
    "\n",
    "Nombre: Madeleine Yameli Romero Rayas\n",
    "\n",
    "Código: 207549458\n",
    "\n",
    "Maestría en Ciencia de los Datos (CUCEA)"
   ]
  },
  {
   "cell_type": "markdown",
   "metadata": {},
   "source": [
    "## Desafío 5: Composición de Funciones\n",
    "\n",
    "Crea una función componer que tome una lista de funciones y retorne una nueva función que represente la composición de las funciones originales. La composición de funciones es una operación donde el resultado de una función se utiliza como el argumento de la siguiente.\n"
   ]
  },
  {
   "cell_type": "code",
   "execution_count": 6,
   "metadata": {},
   "outputs": [
    {
     "name": "stdout",
     "output_type": "stream",
     "text": [
      "80\n"
     ]
    }
   ],
   "source": [
    "def componer(funciones):\n",
    "    def nueva_funcion(x): # Se define una nueva función dentro de la función componer que toma un argumento x\n",
    "        for funcion in funciones: # Aplica cada función en la lista de funciones a x\n",
    "            x = funcion(x)\n",
    "        return x # Regresa el resultado final\n",
    "    return nueva_funcion # Regresa la nueva función\n",
    "\n",
    "\n",
    "funciones = [lambda x: x + 5, lambda x: x * 10] # Lista de ejemplo con dos funciones\n",
    "nueva_funcion = componer(funciones) # Crea una nueva función que es la composición de las dos funciones anteriores\n",
    "resultado = nueva_funcion(3) # Llama a la nueva función con un valor de entrada de 3\n",
    "print(resultado)\n"
   ]
  }
 ],
 "metadata": {
  "kernelspec": {
   "display_name": "progra_1",
   "language": "python",
   "name": "python3"
  },
  "language_info": {
   "codemirror_mode": {
    "name": "ipython",
    "version": 3
   },
   "file_extension": ".py",
   "mimetype": "text/x-python",
   "name": "python",
   "nbconvert_exporter": "python",
   "pygments_lexer": "ipython3",
   "version": "3.8.17"
  },
  "orig_nbformat": 4
 },
 "nbformat": 4,
 "nbformat_minor": 2
}
