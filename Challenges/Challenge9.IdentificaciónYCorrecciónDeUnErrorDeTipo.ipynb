{
 "cells": [
  {
   "cell_type": "markdown",
   "metadata": {},
   "source": [
    "## PROGRAMACIÓN I\n",
    "\n",
    "Nombre: Madeleine Yameli Romero Rayas\n",
    "\n",
    "Código: 207549458\n",
    "\n",
    "Maestría en Ciencia de los Datos (CUCEA)"
   ]
  },
  {
   "cell_type": "markdown",
   "metadata": {},
   "source": [
    "## Desafío 9: Identificación y Corrección de un Error de Tipo\n",
    "\n",
    "En el siguiente script, se te da una función que toma una lista de strings y concatena todos los strings en una sola cadena. Sin embargo, si se le pasa una lista que contiene elementos no-string, fallará con un TypeError. Tu tarea es depurar el script y modificarlo para que funcione correctamente con listas que contienen diferentes tipos de elementos."
   ]
  },
  {
   "cell_type": "markdown",
   "metadata": {},
   "source": [
    "### Script original:"
   ]
  },
  {
   "cell_type": "code",
   "execution_count": 2,
   "metadata": {},
   "outputs": [
    {
     "name": "stdout",
     "output_type": "stream",
     "text": [
      "TypeError: can only concatenate str (not \"int\") to str\n"
     ]
    }
   ],
   "source": [
    "def concatenate_list_of_strings(string_list):\n",
    "    # Esta función fallará si encuentra un no-string en la lista\n",
    "    concatenated_string = \"\"\n",
    "    for item in string_list:\n",
    "        concatenated_string += item  # Esto provocará TypeError si item no es un string\n",
    "    return concatenated_string\n",
    "\n",
    "# Lista de prueba con diferentes tipos de elementos\n",
    "mixed_list = [\"hello\", \"world\", 123, True, \"!\", 42.0]\n",
    "\n",
    "# Intento de concatenar la lista\n",
    "try:\n",
    "    result = concatenate_list_of_strings(mixed_list)\n",
    "    print(\"Concatenated Result:\", result)\n",
    "except TypeError as e:\n",
    "    print(\"TypeError:\", e)"
   ]
  },
  {
   "cell_type": "markdown",
   "metadata": {},
   "source": [
    "### Script corregido:"
   ]
  },
  {
   "cell_type": "code",
   "execution_count": 14,
   "metadata": {},
   "outputs": [
    {
     "name": "stdout",
     "output_type": "stream",
     "text": [
      "Concatenated Result: helloworld123True!42.0\n"
     ]
    }
   ],
   "source": [
    "def concatenate_list_of_strings(string_list):\n",
    "    # Esta función funcionará con cualquier tipo de elemento en la lista\n",
    "    concatenated_string = \"\"\n",
    "    for item in string_list:\n",
    "        concatenated_string += str (item)  # Esto convertirá cualquie elemento a string\n",
    "    return concatenated_string\n",
    "\n",
    "# Lista de prueba con diferentes tipos de elementos\n",
    "mixed_list = [\"hello\", \"world\", 123, True, \"!\", 42.0]\n",
    "\n",
    "# Intento de concatenar la lista\n",
    "try:\n",
    "    result = concatenate_list_of_strings(mixed_list)\n",
    "    print(\"Concatenated Result:\", result)\n",
    "except TypeError as e:\n",
    "    print(\"TypeError:\", e)"
   ]
  }
 ],
 "metadata": {
  "kernelspec": {
   "display_name": "progra_1",
   "language": "python",
   "name": "python3"
  },
  "language_info": {
   "codemirror_mode": {
    "name": "ipython",
    "version": 3
   },
   "file_extension": ".py",
   "mimetype": "text/x-python",
   "name": "python",
   "nbconvert_exporter": "python",
   "pygments_lexer": "ipython3",
   "version": "3.8.17"
  },
  "orig_nbformat": 4
 },
 "nbformat": 4,
 "nbformat_minor": 2
}
