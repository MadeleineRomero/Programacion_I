{
 "cells": [
  {
   "cell_type": "markdown",
   "metadata": {},
   "source": [
    "## PROGRAMACIÓN I\n",
    "\n",
    "Nombre: Madeleine Yameli Romero Rayas\n",
    "\n",
    "Código: 207549458\n",
    "\n",
    "Maestría en Ciencia de los Datos (CUCEA)"
   ]
  },
  {
   "cell_type": "markdown",
   "metadata": {},
   "source": [
    "## Desafío 4: Implementación de Funciones map, filter, y reduce Propias\n",
    "\n",
    "Crea tus propias versiones de las funciones map, filter y reduce. Estas funciones deben tomar como argumentos una función y una lista (y un valor inicial en el caso de reduce) y deben retornar un iterable (puedes retornar una lista).\n"
   ]
  },
  {
   "cell_type": "markdown",
   "metadata": {},
   "source": [
    "## FUNCIÓN MAP\n",
    "La función map() es una función incorporada de Python que toma dos parámetros: una función y un iterable. Esta función aplica la función dada a todos los elementos del iterable y devuelve un objeto map con los resultados.\n",
    "\n",
    "Por ejemplo, si quisieras aplicar la función str.upper() a cada elemento de una lista con la función incorporada de python, podrías hacer lo siguiente:"
   ]
  },
  {
   "cell_type": "code",
   "execution_count": 1,
   "metadata": {},
   "outputs": [
    {
     "name": "stdout",
     "output_type": "stream",
     "text": [
      "['HOLA', 'MUNDO']\n"
     ]
    }
   ],
   "source": [
    "lista_ejemplo = [\"hola\", \"mundo\"]\n",
    "resultado = map(str.upper, lista_ejemplo)\n",
    "print(list(resultado))"
   ]
  },
  {
   "cell_type": "markdown",
   "metadata": {},
   "source": [
    "### MI VERSIÓN DE LA FUNCIÓN MAP"
   ]
  },
  {
   "cell_type": "code",
   "execution_count": 2,
   "metadata": {},
   "outputs": [
    {
     "name": "stdout",
     "output_type": "stream",
     "text": [
      "['HOLA', 'MUNDO']\n"
     ]
    }
   ],
   "source": [
    "def mi_funcion_map(funcion, lista): # Se define una función que reciba como argumentos una función y una lista\n",
    "    resultado = [] # Crea una lista vacía para almacenar los resultados\n",
    "    for i in lista: # Itera sobre cada elemento de la lista\n",
    "        resultado.append(funcion(i)) # Aplica la función a cada elemento y agrega el resultado a la lista de resultados\n",
    "    return resultado # Regresa la lista de resultados\n",
    "\n",
    "\n",
    "#Se crea un lista de ejemplo y se imprime el resultado de mandar a llamar la función creada\n",
    "lista_ejemplo = [\"hola\", \"mundo\"]\n",
    "print(mi_funcion_map(str.upper, lista_ejemplo))"
   ]
  },
  {
   "cell_type": "markdown",
   "metadata": {},
   "source": [
    "## FUNCIÓN FILTER\n",
    "La función filter() es una función incorporada de Python que toma dos parámetros: una función y un iterable. Esta función filtra los elementos del iterable que cumplen con la condición dada por la función y devuelve un objeto filter con los resultados.\n",
    "\n",
    "Por ejemplo, si quisieras filtrar los números pares de una lista con la función incorporada de python, podrías hacer lo siguiente:"
   ]
  },
  {
   "cell_type": "code",
   "execution_count": 3,
   "metadata": {},
   "outputs": [
    {
     "name": "stdout",
     "output_type": "stream",
     "text": [
      "[2, 4, 6]\n"
     ]
    }
   ],
   "source": [
    "lista_ejemplo = [1, 2, 3, 4, 5, 6]\n",
    "resultado = filter(lambda x: x % 2 == 0, lista_ejemplo)\n",
    "print(list(resultado))"
   ]
  },
  {
   "cell_type": "markdown",
   "metadata": {},
   "source": [
    "### MI VERSIÓN DE LA FUNCIÓN FILTER"
   ]
  },
  {
   "cell_type": "code",
   "execution_count": 4,
   "metadata": {},
   "outputs": [
    {
     "name": "stdout",
     "output_type": "stream",
     "text": [
      "[2, 4, 6]\n"
     ]
    }
   ],
   "source": [
    "def mi_funcion_filter(funcion, lista):\n",
    "    resultado = [] # Crea una lista vacía para almacenar los resultados\n",
    "    for i in lista: # Itera sobre cada elemento de la lista\n",
    "        if funcion(i): # Si la función devuelve True para el elemento, agrega el elemento a la lista de resultados\n",
    "            resultado.append(i)\n",
    "    return resultado # Regresa la lista de resultados\n",
    "\n",
    "#Se crea un lista de ejemplo y se imprime el resultado de mandar a llamar la función creada\n",
    "lista_ejemplo = [1, 2, 3, 4, 5, 6]\n",
    "print(mi_funcion_filter(lambda x: x % 2 == 0, lista_ejemplo))"
   ]
  },
  {
   "cell_type": "markdown",
   "metadata": {},
   "source": [
    "## FUNCIÓN REDUCE\n",
    "La función reduce() es una función incorporada de Python que toma como argumento un conjunto de valores (una lista, una tupla, o cualquier objeto iterable) y lo “reduce” a un único valor. Cómo se obtiene ese único valor a partir de la colección pasada como argumento dependerá de la función aplicada.\n",
    "\n",
    "Por ejemplo, si quisieras sumar todos los elementos de una lista con la función incorporada de python, podrías hacer lo siguiente:"
   ]
  },
  {
   "cell_type": "code",
   "execution_count": 5,
   "metadata": {},
   "outputs": [
    {
     "name": "stdout",
     "output_type": "stream",
     "text": [
      "12\n"
     ]
    }
   ],
   "source": [
    "from functools import reduce\n",
    "\n",
    "lista_ejemplo = [1, 2, 3, 4]\n",
    "result = reduce(lambda x, y: x + y, lista_ejemplo, 2)\n",
    "print(result)"
   ]
  },
  {
   "cell_type": "markdown",
   "metadata": {},
   "source": [
    "### MI VERSIÓN DE LA FUNCIÓN REDUCE"
   ]
  },
  {
   "cell_type": "code",
   "execution_count": 6,
   "metadata": {},
   "outputs": [
    {
     "name": "stdout",
     "output_type": "stream",
     "text": [
      "12\n"
     ]
    }
   ],
   "source": [
    "def mi_funcion_reduce(funcion, lista, valor_inicial=None):\n",
    "    if valor_inicial is not None: # Si se proporciona un valor inicial, lo usamos como acumulador\n",
    "        acumulador = valor_inicial #Se asigna el valor inicial al acumulador\n",
    "        for i in lista: # Itera sobre cada elemento de la lista\n",
    "            acumulador = funcion(acumulador, i) # Aplica la función al acumulador y al elemento actual\n",
    "    else: # Si no se proporciona un valor inicial, se usa el primer elemento de la lista como acumulador\n",
    "        acumulador = lista[0] # Se asigna el primer elemento al acumulador\n",
    "        for i in lista[1:]: # Itera sobre cada elemento de la lista a partir del segundo elemento\n",
    "            acumulador = funcion(acumulador, i) # Aplica la función al acumulador y al elemento actual\n",
    "    return acumulador  # Regresa el acumulador final\n",
    "\n",
    "#Se crea un lista de ejemplo y se imprime el resultado de mandar a llamar la función creada\n",
    "lista_ejemplo = [1, 2, 3, 4]\n",
    "print(mi_funcion_reduce(lambda x, y: x + y, lista_ejemplo, 2))"
   ]
  }
 ],
 "metadata": {
  "kernelspec": {
   "display_name": "progra_1",
   "language": "python",
   "name": "python3"
  },
  "language_info": {
   "codemirror_mode": {
    "name": "ipython",
    "version": 3
   },
   "file_extension": ".py",
   "mimetype": "text/x-python",
   "name": "python",
   "nbconvert_exporter": "python",
   "pygments_lexer": "ipython3",
   "version": "3.8.17"
  },
  "orig_nbformat": 4
 },
 "nbformat": 4,
 "nbformat_minor": 2
}
