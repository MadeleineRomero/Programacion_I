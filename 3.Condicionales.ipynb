{
 "cells": [
  {
   "attachments": {},
   "cell_type": "markdown",
   "metadata": {},
   "source": [
    "## PROGRAMACIÓN I\n",
    "\n",
    "Nombre: Madeleine Yameli Romero Rayas\n",
    "\n",
    "Código: 207549458\n",
    "\n",
    "Maestría en Ciencia de los Datos (CUCEA)\n"
   ]
  },
  {
   "attachments": {},
   "cell_type": "markdown",
   "metadata": {},
   "source": [
    "# Condicionales\n",
    "\n",
    "Los condicionales en Python se utilizan para tomar decisiones basadas en condiciones específicas. Puedes usar las siguientes estructuras condicionales en Python:\n",
    "\n",
    "if: La declaración if se usa para ejecutar un bloque de código si una condición es verdadera.\n"
   ]
  },
  {
   "cell_type": "code",
   "execution_count": 66,
   "metadata": {},
   "outputs": [],
   "source": [
    "#if condicion:\n",
    "    # Código a ejecutar si la condición es verdadera"
   ]
  },
  {
   "attachments": {},
   "cell_type": "markdown",
   "metadata": {},
   "source": [
    "# Ejercicios Condicionales"
   ]
  },
  {
   "attachments": {},
   "cell_type": "markdown",
   "metadata": {},
   "source": [
    "## Ejercicio 1\n",
    "Escribir un programa que pregunte al usuario su edad y muestre por pantalla si es mayor de edad o no."
   ]
  },
  {
   "cell_type": "code",
   "execution_count": 67,
   "metadata": {},
   "outputs": [
    {
     "name": "stdout",
     "output_type": "stream",
     "text": [
      "Eres mayor de edad.\n"
     ]
    }
   ],
   "source": [
    "age = int(input(\"Cuál es tu edad?\"))\n",
    "if age < 18:\n",
    "    print (\"Eres menor de edad.\")\n",
    "else:\n",
    "    print (\"Eres mayor de edad.\")"
   ]
  },
  {
   "attachments": {},
   "cell_type": "markdown",
   "metadata": {},
   "source": [
    "## Ejercicio 2\n",
    "\n",
    "Escribir un programa que almacene la cadena de caracteres `contraseña` en una variable, pregunte al usuario por la contraseña e imprima por pantalla si la contraseña introducida por el usuario coincide con la guardada en la variable sin tener en cuenta mayúsculas y minúsculas."
   ]
  },
  {
   "cell_type": "code",
   "execution_count": 68,
   "metadata": {},
   "outputs": [
    {
     "name": "stdout",
     "output_type": "stream",
     "text": [
      "La contraseña coincide\n"
     ]
    }
   ],
   "source": [
    "key = \"contraseña\"\n",
    "password = input(\"Cuál es la contraseña?\")\n",
    "\n",
    "if key == password.lower():\n",
    "    print(\"La contraseña coincide\")\n",
    "else:\n",
    "    print(\"La contraseña no coincide\")"
   ]
  },
  {
   "attachments": {},
   "cell_type": "markdown",
   "metadata": {},
   "source": [
    "## Ejercicio 3\n",
    "\n",
    "Escribir un programa que pida al usuario dos números y devuelva su división. Si el usuario no introduce números debe devolver un aviso de error y si el divisor es cero también."
   ]
  },
  {
   "cell_type": "code",
   "execution_count": 69,
   "metadata": {},
   "outputs": [
    {
     "name": "stdout",
     "output_type": "stream",
     "text": [
      "5.0\n"
     ]
    }
   ],
   "source": [
    "while True:\n",
    "    try:\n",
    "        n = float(input(\"Ingresa el dividendo: \"))\n",
    "        m = float(input(\"Ingresa el divisor: \"))\n",
    "        if type(n) != float or type(m) != float:\n",
    "            print(\"¡Error! Ambos valores deben ser números\")\n",
    "        elif m == 0:\n",
    "            print(\"¡Error! No se puede dividir por 0.\")\n",
    "        else:\n",
    "            print(n/m)\n",
    "        break\n",
    "    except ValueError:\n",
    "        print(\"¡Error! Ambos valores deben ser números\")\n",
    "\n",
    "\n"
   ]
  },
  {
   "attachments": {},
   "cell_type": "markdown",
   "metadata": {},
   "source": [
    "## Ejercicio 4\n",
    "\n",
    "Escribir un programa que pida al usuario un número entero y muestre por pantalla si es par o impar."
   ]
  },
  {
   "cell_type": "code",
   "execution_count": 70,
   "metadata": {},
   "outputs": [
    {
     "name": "stdout",
     "output_type": "stream",
     "text": [
      "El número es impar\n"
     ]
    }
   ],
   "source": [
    "numero = int(input(\"Introduce un número entero: \"))\n",
    "if numero % 2 == 0:\n",
    "    print(\"El número es par\")\n",
    "else:\n",
    "    print(\"El número es impar\")"
   ]
  },
  {
   "attachments": {},
   "cell_type": "markdown",
   "metadata": {},
   "source": [
    "## Ejercicio 5\n",
    "\n",
    "Para tributar un determinado impuesto se debe ser mayor de 18 años y tener unos ingresos superiores a 1000 € mensuales.\n",
    "Escribir un programa que pregunte al usuario su edad y sus ingresos mensuales y muestre por pantalla si el usuario tiene que tributar o no."
   ]
  },
  {
   "cell_type": "code",
   "execution_count": 71,
   "metadata": {},
   "outputs": [
    {
     "name": "stdout",
     "output_type": "stream",
     "text": [
      "Tienes que pagar impuestos\n"
     ]
    }
   ],
   "source": [
    "age = int(input(\"¿Cuál es tu edad?\"))\n",
    "income = float(input(\"¿Cuales son tus ingresos mensuales?\"))\n",
    "\n",
    "if age >= 18 and income >= 1000:\n",
    "    print (\"Tienes que pagar impuestos\")\n",
    "else:\n",
    "    print (\"No tienes que pagar impuestos\")"
   ]
  },
  {
   "attachments": {},
   "cell_type": "markdown",
   "metadata": {},
   "source": [
    "# Actividades de tarea"
   ]
  },
  {
   "attachments": {},
   "cell_type": "markdown",
   "metadata": {},
   "source": [
    "## Ejercicio 6\n",
    "\n",
    "Los alumnos de un curso se han dividido en dos grupos A y B de acuerdo al sexo y el nombre. El grupo A esta formado por las mujeres con un nombre anterior a la M y los hombres con un nombre posterior a la N y el grupo B por el resto.\n",
    "Escribir un programa que pregunte al usuario su nombre y sexo, y muestre por pantalla el grupo que le corresponde."
   ]
  },
  {
   "cell_type": "code",
   "execution_count": 72,
   "metadata": {},
   "outputs": [
    {
     "name": "stdout",
     "output_type": "stream",
     "text": [
      "Correspondes al grupo B\n"
     ]
    }
   ],
   "source": [
    "nombre = input(\"¿Cuál es tu nombre? \")\n",
    "genero = input(\"¿Cuál es tu sexo (M o H)? \")\n",
    "\n",
    "if genero == 'H':\n",
    "    if nombre.lower() > 'n':\n",
    "        print(\"Correspondes al grupo A\")\n",
    "    else:\n",
    "        print(\"Correspondes al grupo B\")\n",
    "else:\n",
    "    if nombre.lower() < 'm':\n",
    "        print(\"Correspondes al grupo A\")\n",
    "    else:\n",
    "        print(\"Correspondes al grupo B\")\n",
    "\n"
   ]
  },
  {
   "attachments": {},
   "cell_type": "markdown",
   "metadata": {},
   "source": [
    "## Ejercicio 7\n",
    "\n",
    "\n",
    "Los tramos impositivos para la declaración de la renta en un determinado país son los siguientes:\n",
    "\n",
    "|         Renta          | Tipo impositivo |\n",
    "| :--------------------: | :-------------: |\n",
    "|    Menos de 10000€     |       5%        |\n",
    "| Entre 10000€ y 20000€  |       15%       |\n",
    "| Entre 20000€ y 35000€  |       20%       |\n",
    "| Entre 35000€ y 60000€  |       30%       |\n",
    "|     Más de 60000€      |       45%       |\n",
    "\n",
    "Escribir un programa que pregunte al usuario su renta anual y muestre por pantalla lo que tiene que pagar."
   ]
  },
  {
   "cell_type": "code",
   "execution_count": 73,
   "metadata": {},
   "outputs": [
    {
     "name": "stdout",
     "output_type": "stream",
     "text": [
      "Debes pagar: 5000.00€\n"
     ]
    }
   ],
   "source": [
    "renta = float(input(\"¿Cuál es tu renta anual? \"))\n",
    "\n",
    "if renta < 10000:\n",
    "    print('Debes pagar: %.2f€' % (renta*.05))\n",
    "elif renta < 20000:\n",
    "    print('Debes pagar: %.2f€' % (renta*.15))\n",
    "elif renta < 35000:\n",
    "    print('Debes pagar: %.2f€' % (renta*.20))\n",
    "elif renta < 60000:\n",
    "    print('Debes pagar: %.2f€' % (renta*.30))\n",
    "else:\n",
    "    print('Debes pagar: %.2f€' % (renta*.45))"
   ]
  },
  {
   "attachments": {},
   "cell_type": "markdown",
   "metadata": {},
   "source": [
    "## Ejercicio 8\n",
    "\n",
    "En una determinada empresa, sus empleados son evaluados al final de cada año. Los puntos que pueden obtener en la evaluación comienzan en 0.0 y pueden ir aumentando, traduciéndose en mejores beneficios.\n",
    "Los puntos que pueden conseguir los empleados pueden ser 0.0, 0.4. o 0.6, pero no valores intermedios entre las cifras mencionadas.\n",
    "A continuación se muestra una tabla con los niveles correspondientes a cada puntuación.\n",
    "La cantidad de dinero conseguida en cada nivel es de 2.400€ multiplicada por la puntuación del nivel.\n",
    "\n",
    "|    Nivel    | Puntuación |\n",
    "| :---------: | :--------: |\n",
    "| Inaceptable |    0.0     |\n",
    "|  Aceptable  |    0.4     |\n",
    "|  Meritorio  |    0.6     |\n",
    "\n",
    "Escribir un programa que lea la puntuación del usuario e indique su nivel de rendimiento, así como la cantidad de dinero que recibirá el usuario."
   ]
  },
  {
   "cell_type": "code",
   "execution_count": 74,
   "metadata": {},
   "outputs": [
    {
     "name": "stdout",
     "output_type": "stream",
     "text": [
      "Tu rendimiento es Aceptable y recibirás 960.00€\n"
     ]
    }
   ],
   "source": [
    "puntos = float(input(\"¿Cuál es tu puntaje? \"))\n",
    "bono = 2400\n",
    "\n",
    "if puntos == 0:\n",
    "    print('Tu rendimiento es Inaceptable y recibirás %.2f€' % (bono*puntos))\n",
    "elif puntos == 0.4:\n",
    "    print('Tu rendimiento es Aceptable y recibirás %.2f€' % (bono*puntos))\n",
    "elif puntos == 0.6:\n",
    "    print('Tu rendimiento es Meritorio y recibirás %.2f€' % (bono*puntos))\n",
    "else:\n",
    "     print('El puntaje introducido no es válido')\n"
   ]
  },
  {
   "attachments": {},
   "cell_type": "markdown",
   "metadata": {},
   "source": [
    "## Ejercicio 9\n",
    "\n",
    "Escribir un programa para una empresa que tiene salas de juegos para todas las edades y quiere calcular de forma automática el precio que debe cobrar a sus clientes por entrar.\n",
    "El programa debe preguntar al usuario la edad del cliente y mostrar el precio de la entrada.\n",
    "Si el cliente es menor de 4 años puede entrar gratis, si tiene entre 4 y 18 años debe pagar 5€ y si es mayor de 18 años, 10€.\n"
   ]
  },
  {
   "cell_type": "code",
   "execution_count": 75,
   "metadata": {},
   "outputs": [
    {
     "name": "stdout",
     "output_type": "stream",
     "text": [
      "El precio de la entrada es de 10.00€\n"
     ]
    }
   ],
   "source": [
    "age = int(input(\"¿Cuál es tu edad?\"))\n",
    "\n",
    "if age < 4:\n",
    "    print(\"Entrada gratuita\")\n",
    "elif age <= 18:\n",
    "    print(\"El precio de la entrada es de 5.00€\")\n",
    "else:\n",
    "    print(\"El precio de la entrada es de 10.00€\")\n"
   ]
  },
  {
   "attachments": {},
   "cell_type": "markdown",
   "metadata": {},
   "source": [
    "## Ejercicio 10\n",
    "La pizzería Bella Napoli ofrece pizzas vegetarianas y no vegetarianas a sus clientes. Los ingredientes para cada tipo de pizza aparecen a continuación.\n",
    "\n",
    "Ingredientes vegetarianos: Pimiento y tofu.\n",
    "Ingredientes no vegetarianos: Peperoni, Jamón y Salmón.\n",
    "Escribir un programa que pregunte al usuario si quiere una pizza vegetariana o no, y en función de su respuesta le muestre un menú con los ingredientes disponibles para que elija. Solo se puede eligir un ingrediente además de la mozzarella y el tomate que están en todas la pizzas. Al final se debe mostrar por pantalla si la pizza elegida es vegetariana o no y todos los ingredientes que lleva."
   ]
  },
  {
   "cell_type": "code",
   "execution_count": 76,
   "metadata": {},
   "outputs": [
    {
     "name": "stdout",
     "output_type": "stream",
     "text": [
      "Bienvenido a la pizzería Bella Napoli!\n",
      "Tipos de pizza:\n",
      "\t1- Vegetariana\n",
      "\t2- No vegetariana\n",
      "Ingredientes de pizzas no vegetarianas:\n",
      "\t1- Peperoni\n",
      "\t2- Jamón\n",
      "\t3- Salmón\n",
      "Pizza no vegetariana con mozzarella, tomate y jamón.\n"
     ]
    }
   ],
   "source": [
    "print(\"Bienvenido a la pizzería Bella Napoli!\")\n",
    "print(\"Tipos de pizza:\")\n",
    "print(\"\\t1- Vegetariana\")\n",
    "print(\"\\t2- No vegetariana\")\n",
    "\n",
    "tipo_pizza = input(\"¿Qué tipo de pizza desea? (1 o 2): \")\n",
    "\n",
    "if tipo_pizza == \"1\":\n",
    "    print(\"Ingredientes de pizzas vegetarianas:\")\n",
    "    print(\"\\t1- Pimiento\")\n",
    "    print(\"\\t2- Tofu\")\n",
    "    ingrediente = input(\"Introduce el ingrediente que deseas (1 o 2): \")\n",
    "    if ingrediente == \"1\":\n",
    "        print(\"Pizza vegetariana con mozzarella, tomate y pimiento.\")\n",
    "    else:\n",
    "        print(\"Pizza vegetariana con mozzarella, tomate y tofu.\")\n",
    "else:\n",
    "    print(\"Ingredientes de pizzas no vegetarianas:\")\n",
    "    print(\"\\t1- Peperoni\")\n",
    "    print(\"\\t2- Jamón\")\n",
    "    print(\"\\t3- Salmón\")\n",
    "    ingrediente = input(\"Introduce el ingrediente que deseas (1, 2 o 3): \")\n",
    "    if ingrediente == \"1\":\n",
    "        print(\"Pizza no vegetariana con mozzarella, tomate y peperoni.\")\n",
    "    elif ingrediente == \"2\":\n",
    "        print(\"Pizza no vegetariana con mozzarella, tomate y jamón.\")\n",
    "    else:\n",
    "        print(\"Pizza no vegetariana con mozzarella, tomate y salmón.\")\n",
    "\n"
   ]
  }
 ],
 "metadata": {
  "kernelspec": {
   "display_name": "progra_1",
   "language": "python",
   "name": "python3"
  },
  "language_info": {
   "codemirror_mode": {
    "name": "ipython",
    "version": 3
   },
   "file_extension": ".py",
   "mimetype": "text/x-python",
   "name": "python",
   "nbconvert_exporter": "python",
   "pygments_lexer": "ipython3",
   "version": "3.8.17"
  },
  "orig_nbformat": 4
 },
 "nbformat": 4,
 "nbformat_minor": 2
}
