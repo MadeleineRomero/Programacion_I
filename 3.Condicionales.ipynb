{
 "cells": [
  {
   "attachments": {},
   "cell_type": "markdown",
   "metadata": {},
   "source": [
    "# Condicionales\n",
    "\n",
    "Los condicionales en Python se utilizan para tomar decisiones basadas en condiciones específicas. Puedes usar las siguientes estructuras condicionales en Python:\n",
    "\n",
    "if: La declaración if se usa para ejecutar un bloque de código si una condición es verdadera.\n"
   ]
  },
  {
   "cell_type": "code",
   "execution_count": null,
   "metadata": {},
   "outputs": [],
   "source": [
    "#if condicion:\n",
    "    # Código a ejecutar si la condición es verdadera"
   ]
  },
  {
   "attachments": {},
   "cell_type": "markdown",
   "metadata": {},
   "source": [
    "# Ejercicios Condicionales"
   ]
  },
  {
   "attachments": {},
   "cell_type": "markdown",
   "metadata": {},
   "source": [
    "## Ejercicio 1\n",
    "Escribir un programa que pregunte al usuario su edad y muestre por pantalla si es mayor de edad o no."
   ]
  },
  {
   "cell_type": "code",
   "execution_count": 1,
   "metadata": {},
   "outputs": [
    {
     "name": "stdout",
     "output_type": "stream",
     "text": [
      "Eres mayor de edad.\n"
     ]
    }
   ],
   "source": [
    "age = int(input(\"Cuál es tu edad?\"))\n",
    "if age < 18:\n",
    "    print (\"Eres menor de edad.\")\n",
    "else:\n",
    "    print (\"Eres mayor de edad.\")"
   ]
  },
  {
   "attachments": {},
   "cell_type": "markdown",
   "metadata": {},
   "source": [
    "## Ejercicio 2\n",
    "\n",
    "Escribir un programa que almacene la cadena de caracteres `contraseña` en una variable, pregunte al usuario por la contraseña e imprima por pantalla si la contraseña introducida por el usuario coincide con la guardada en la variable sin tener en cuenta mayúsculas y minúsculas."
   ]
  },
  {
   "cell_type": "code",
   "execution_count": 6,
   "metadata": {},
   "outputs": [
    {
     "name": "stdout",
     "output_type": "stream",
     "text": [
      "La contraseña coincide\n"
     ]
    }
   ],
   "source": [
    "key = \"contraseña\"\n",
    "password = input(\"Cuál es la contraseña?\")\n",
    "\n",
    "if key == password.lower():\n",
    "    print(\"La contraseña coincide\")\n",
    "else:\n",
    "    print(\"La contraseña no coincide\")"
   ]
  },
  {
   "attachments": {},
   "cell_type": "markdown",
   "metadata": {},
   "source": [
    "## Ejercicio 3\n",
    "\n",
    "Escribir un programa que pida al usuario dos números y devuelva su división. Si el usuario no introduce números debe devolver un aviso de error y si el divisor es cero también."
   ]
  },
  {
   "cell_type": "code",
   "execution_count": 7,
   "metadata": {},
   "outputs": [
    {
     "name": "stdout",
     "output_type": "stream",
     "text": [
      "2.0\n"
     ]
    }
   ],
   "source": [
    "n = float(input(\"Ingresa el dividendo: \"))\n",
    "m = float(input(\"Ingresa el divisor: \"))\n",
    "\n",
    "if m == 0:\n",
    "    print(\"¡Error! No se puede dividir por 0.\")\n",
    "else:\n",
    "    print(n/m)"
   ]
  },
  {
   "attachments": {},
   "cell_type": "markdown",
   "metadata": {},
   "source": [
    "## Ejercicio 4\n",
    "\n",
    "Escribir un programa que pida al usuario un número entero y muestre por pantalla si es par o impar."
   ]
  },
  {
   "cell_type": "code",
   "execution_count": 6,
   "metadata": {},
   "outputs": [
    {
     "name": "stdout",
     "output_type": "stream",
     "text": [
      "El número es par\n"
     ]
    }
   ],
   "source": [
    "numero = int(input(\"Introduce un número entero: \"))\n",
    "if numero % 2 == 0:\n",
    "    print(\"El número es par\")\n",
    "else:\n",
    "    print(\"El número es impar\")"
   ]
  },
  {
   "attachments": {},
   "cell_type": "markdown",
   "metadata": {},
   "source": [
    "## Ejercicio 5\n",
    "\n",
    "Para tributar un determinado impuesto se debe ser mayor de 18 años y tener unos ingresos superiores a 1000 € mensuales.\n",
    "Escribir un programa que pregunte al usuario su edad y sus ingresos mensuales y muestre por pantalla si el usuario tiene que tributar o no."
   ]
  },
  {
   "cell_type": "code",
   "execution_count": 11,
   "metadata": {},
   "outputs": [
    {
     "name": "stdout",
     "output_type": "stream",
     "text": [
      "No tienes que pagar impuestos\n"
     ]
    }
   ],
   "source": [
    "age = int(input(\"¿Cuál es tu edad?\"))\n",
    "income = float(input(\"¿Cuales son tus ingresos mensuales?\"))\n",
    "\n",
    "if age >= 18 and income >= 1000:\n",
    "    print (\"Tienes que pagar impuestos\")\n",
    "else:\n",
    "    print (\"No tienes que pagar impuestos\")"
   ]
  }
 ],
 "metadata": {
  "kernelspec": {
   "display_name": "progra_1",
   "language": "python",
   "name": "python3"
  },
  "language_info": {
   "codemirror_mode": {
    "name": "ipython",
    "version": 3
   },
   "file_extension": ".py",
   "mimetype": "text/x-python",
   "name": "python",
   "nbconvert_exporter": "python",
   "pygments_lexer": "ipython3",
   "version": "3.8.17"
  },
  "orig_nbformat": 4
 },
 "nbformat": 4,
 "nbformat_minor": 2
}
