{
 "cells": [
  {
   "cell_type": "markdown",
   "metadata": {},
   "source": [
    "## PROGRAMACIÓN I\n",
    "\n",
    "Nombre: Madeleine Yameli Romero Rayas\n",
    "\n",
    "Código: 207549458\n",
    "\n",
    "Maestría en Ciencia de los Datos (CUCEA)"
   ]
  },
  {
   "cell_type": "markdown",
   "metadata": {},
   "source": [
    "## Funciones\n",
    "\n",
    "Las funciones en Python son bloques de código que están diseñados para hacer una tarea específica. Una vez que se define una función, puede ser reutilizada a lo largo de un programa. Esto ayuda a hacer los programas más organizados, reutilizables y fáciles de mantener.\n",
    "\n",
    "Aquí está la estructura básica de una función en Python:"
   ]
  },
  {
   "cell_type": "code",
   "execution_count": 26,
   "metadata": {},
   "outputs": [],
   "source": [
    "# def nombre_de_la_funcion(parametro1, parametro2, ...):\n",
    "    # Cuerpo de la función\n",
    "    # ...\n",
    "#     return valor_de_retorno\n"
   ]
  },
  {
   "cell_type": "markdown",
   "metadata": {},
   "source": [
    "**def:** Es la palabra clave que se utiliza para definir una nueva función.\n",
    "\n",
    "**nombre_de_la_funcion:** Es el nombre que se le da a la función. Debe ser único y descriptivo.\n",
    "\n",
    "**parametro1, parametro2, ...:** Son los parámetros de la función, que son los valores que la función puede recibir como entrada.\n",
    "\n",
    "**Cuerpo de la función:**  Es donde se coloca el código que define lo que hace la función.\n",
    "\n",
    "**return:** Es la palabra clave que se utiliza para retornar un valor de la función. Si no se especifica un valor de retorno, la función retornará None por defecto.\n",
    "\n",
    "**valor_de_retorno:** Es el valor que la función retorna cuando se ejecuta.\n"
   ]
  },
  {
   "cell_type": "code",
   "execution_count": 27,
   "metadata": {},
   "outputs": [
    {
     "name": "stdout",
     "output_type": "stream",
     "text": [
      "8\n"
     ]
    }
   ],
   "source": [
    "# Ejemplo de SUMA\n",
    "\n",
    "def sumar_dos_numeros(num1, num2):\n",
    "    suma = num1 + num2\n",
    "    return suma\n",
    "\n",
    "# Uso de la función\n",
    "resultado = sumar_dos_numeros(5, 3)\n",
    "print(resultado)  # Salida: 8"
   ]
  },
  {
   "cell_type": "markdown",
   "metadata": {},
   "source": [
    "### Ejercicio 1\n",
    "\n",
    "Escribir una función que muestre por pantalla el saludo `¡Hola amiga!` cada vez que se la invoque."
   ]
  },
  {
   "cell_type": "code",
   "execution_count": 28,
   "metadata": {},
   "outputs": [
    {
     "name": "stdout",
     "output_type": "stream",
     "text": [
      "¡Hola amiga!\n"
     ]
    }
   ],
   "source": [
    "def saludo():\n",
    "    \"\"\"Función que muestra el saluco ¡Hola amiga! por pantalla.\"\"\"\n",
    "    print(\"¡Hola amiga!\")\n",
    "    return\n",
    "\n",
    "saludo()"
   ]
  },
  {
   "cell_type": "markdown",
   "metadata": {},
   "source": [
    "### Ejercicio 2\n",
    "\n",
    "Escribir una función a la que se le pase una cadena `<nombre>` y muestre por pantalla el saludo `¡hola <nombre>!`."
   ]
  },
  {
   "cell_type": "code",
   "execution_count": 29,
   "metadata": {},
   "outputs": [
    {
     "name": "stdout",
     "output_type": "stream",
     "text": [
      "¡Hola Madeleine!\n"
     ]
    }
   ],
   "source": [
    "def saludo(nombre):\n",
    "    \"\"\"Función que muestra un saludo por pantalla.\n",
    "    Parámetros\n",
    "    nombre: Nombre del usuario\n",
    "    Devuelve el saludo ¡Hola nombre!.\n",
    "    \"\"\"\n",
    "    print(\"¡Hola \" + nombre + \"!\")\n",
    "    return\n",
    "\n",
    "saludo(\"Madeleine\")"
   ]
  },
  {
   "cell_type": "markdown",
   "metadata": {},
   "source": [
    "### Ejercicio 3\n",
    "\n",
    "Escribir una función que reciba un número entero positivo y devuelva su factorial."
   ]
  },
  {
   "cell_type": "code",
   "execution_count": 30,
   "metadata": {},
   "outputs": [
    {
     "name": "stdout",
     "output_type": "stream",
     "text": [
      "120\n"
     ]
    }
   ],
   "source": [
    "def factorial(num):\n",
    "    \"\"\"Función que calcula el factorial de un número entero positivo.\n",
    "    Parámetros\n",
    "    num: Es un entero positivo.\n",
    "    Devuelve el factorial de num.\n",
    "    \"\"\"\n",
    "    tmp = 1\n",
    "    for i in range(num):\n",
    "        tmp *= i+1\n",
    "    return tmp\n",
    "\n",
    "print(factorial(5))"
   ]
  },
  {
   "cell_type": "markdown",
   "metadata": {},
   "source": [
    "### Ejercicio 4\n",
    "\n",
    "Escribir una función que calcule el total de una factura tras aplicarle el IVA. La función debe recibir la cantidad sin IVA y el porcentaje de IVA a aplicar, y devolver el total de la factura. Si se invoca la función sin pasarle el porcentaje de IVA, deberá aplicar un 21%."
   ]
  },
  {
   "cell_type": "code",
   "execution_count": 31,
   "metadata": {},
   "outputs": [
    {
     "name": "stdout",
     "output_type": "stream",
     "text": [
      "116.0\n",
      "121.0\n"
     ]
    }
   ],
   "source": [
    "def factura(cantidad, iva=21):\n",
    "    \"\"\"Función de aplica el IVA a una factura.\n",
    "    Parametros\n",
    "    cantidad: Es la cantidad sin IVA\n",
    "    iva: Es el porcentaje de IVA\n",
    "    Devuelve el total de la factura una vez aplicado el IVA.\n",
    "    \"\"\"\n",
    "    return cantidad + cantidad*(iva/100)\n",
    "\n",
    "print(factura(100,16))\n",
    "print(factura(100))"
   ]
  },
  {
   "cell_type": "markdown",
   "metadata": {},
   "source": [
    "### Ejercicio 5\n",
    "\n",
    "Escribir una función que calcule el área de un círculo y otra que calcule el volumen de un cilindro usando la primera función."
   ]
  },
  {
   "cell_type": "code",
   "execution_count": 32,
   "metadata": {},
   "outputs": [
    {
     "name": "stdout",
     "output_type": "stream",
     "text": [
      "314.1592653589793\n",
      "628.3185307179587\n"
     ]
    }
   ],
   "source": [
    "import math\n",
    "\n",
    "def area_circulo(radio):\n",
    "    \"\"\"Función que calcula el area de un círculo.\n",
    "    Parámetros\n",
    "    radio: Es el radio del círculo.\n",
    "    Devuelve el área del círculo de radio radio.\n",
    "    \"\"\"\n",
    "    return math.pi * radio**2\n",
    "\n",
    "def volumen_cilindro(radio, altura):\n",
    "    \"\"\"Función que calcula el volumen de un cilindro.\n",
    "    Parámetros\n",
    "    radio: Es el radio de la base del cilindro.\n",
    "    altura: Es la altura del cilindro.\n",
    "    Devuelve el volumen del clindro de radio radio y altura altura.\n",
    "    \"\"\"\n",
    "    return area_circulo(radio)*altura\n",
    "\n",
    "print(volumen_cilindro(10,1))\n",
    "print(volumen_cilindro(10,2))"
   ]
  },
  {
   "cell_type": "markdown",
   "metadata": {},
   "source": [
    "### Ejercicio 6\n",
    "\n",
    "Escribir una función que reciba una muestra de números en una lista y devuelva su media, varianza y desviación típica en un diccionario."
   ]
  },
  {
   "cell_type": "code",
   "execution_count": 33,
   "metadata": {},
   "outputs": [
    {
     "name": "stdout",
     "output_type": "stream",
     "text": [
      "{'media': 3.0, 'varianza': 2.5, 'desviacion_tipica': 1.5811388300841898}\n"
     ]
    }
   ],
   "source": [
    "def estadisticos(lista):\n",
    "    \"\"\"Función que calcula la media, varianza y desviación típica de una muestra de números.\n",
    "    Parámetros\n",
    "    muestra: Es una lista de números\n",
    "    Devuelve la media de los números en muestra.\n",
    "    \"\"\"\n",
    "    n = len(lista)\n",
    "    media = sum(lista) / n\n",
    "    varianza = sum((x - media) ** 2 for x in lista) / (n - 1)\n",
    "    desviacion_tipica = varianza ** 0.5\n",
    "    return {'media': media, 'varianza': varianza, 'desviacion_tipica': desviacion_tipica}\n",
    "\n",
    "print(estadisticos([1, 2, 3, 4, 5]))\n"
   ]
  },
  {
   "cell_type": "markdown",
   "metadata": {},
   "source": [
    "### Ejercicio 7\n",
    "\n",
    "Escribir una función que reciba una muestra de números en una lista y devuelva otra lista con sus cuadrados."
   ]
  },
  {
   "cell_type": "code",
   "execution_count": 34,
   "metadata": {},
   "outputs": [
    {
     "name": "stdout",
     "output_type": "stream",
     "text": [
      "[1, 4, 9, 16, 25, 36, 49, 64, 81, 100]\n"
     ]
    }
   ],
   "source": [
    "def cuadrados(muestra):\n",
    "    \"\"\"Función que calcula los cuadrados de una lista de números.\n",
    "    Parámetros\n",
    "    muestra: Es una lista de números\n",
    "    Devuelve una lista con los cuadrados de los números de la lista muestra.\n",
    "    \"\"\"\n",
    "    lista = []\n",
    "    for i in muestra:\n",
    "        lista.append(i**2)\n",
    "    return lista\n",
    "\n",
    "print(cuadrados([1, 2, 3, 4, 5, 6, 7, 8, 9, 10]))"
   ]
  },
  {
   "cell_type": "markdown",
   "metadata": {},
   "source": [
    "### Ejercicio 8\n",
    "\n",
    "Escribir una función que reciba una muestra de números en una lista y devuelva un diccionario con su media, varianza y desviación típica."
   ]
  },
  {
   "cell_type": "code",
   "execution_count": 35,
   "metadata": {},
   "outputs": [
    {
     "name": "stdout",
     "output_type": "stream",
     "text": [
      "{'media': 3.0, 'varianza': 2.5, 'desviacion_tipica': 1.5811388300841898}\n"
     ]
    }
   ],
   "source": [
    "def estadisticos(lista):\n",
    "    \"\"\"Función que calcula la media, varianza y desviación típica de una muestra de números.\n",
    "    Parámetros\n",
    "    muestra: Es una lista de números\n",
    "    Devuelve la media de los números en muestra.\n",
    "    \"\"\"\n",
    "    n = len(lista)\n",
    "    media = sum(lista) / n\n",
    "    varianza = sum((x - media) ** 2 for x in lista) / (n - 1)\n",
    "    desviacion_tipica = varianza ** 0.5\n",
    "    return {'media': media, 'varianza': varianza, 'desviacion_tipica': desviacion_tipica}\n",
    "\n",
    "print(estadisticos([1, 2, 3, 4, 5]))"
   ]
  },
  {
   "cell_type": "markdown",
   "metadata": {},
   "source": [
    "### Ejercicio 9\n",
    "\n",
    "Escribir una función que calcule el máximo común divisor de dos números y otra que calcule el mínimo común múltiplo."
   ]
  },
  {
   "cell_type": "code",
   "execution_count": 36,
   "metadata": {},
   "outputs": [
    {
     "name": "stdout",
     "output_type": "stream",
     "text": [
      "2\n",
      "4\n"
     ]
    }
   ],
   "source": [
    "def maximo_comun_divisor(a, b):\n",
    "    \"\"\"Función que calcula el máximo común divisor de dos números.\n",
    "    Parámetros:\n",
    "        a: Es un número entero.\n",
    "        b: Es un número entero.\n",
    "    Devuelve:\n",
    "        El máximo común divisor de a y b.\n",
    "    \"\"\"\n",
    "\n",
    "    while b:\n",
    "        a, b = b, a % b\n",
    "    return a\n",
    "\n",
    "def minimo_comun_multiplo(a, b):\n",
    "    \"\"\"Función que calcula el mínimo común múltiplo de dos números.\n",
    "    Parámetros:\n",
    "        a: Es un número entero.\n",
    "        b: Es un número entero.\n",
    "    Devuelve:\n",
    "        El mínimo común múltiplo de a y b.\n",
    "    \"\"\"\n",
    "\n",
    "    return a * b // maximo_comun_divisor(a, b)\n",
    "\n",
    "print(maximo_comun_divisor(4,2))\n",
    "print(minimo_comun_multiplo(4,2))\n"
   ]
  },
  {
   "cell_type": "markdown",
   "metadata": {},
   "source": [
    "### Ejercicio 10\n",
    "\n",
    "Escribir una función que convierta un número decimal en binario y otra que convierta un número binario en decimal."
   ]
  },
  {
   "cell_type": "code",
   "execution_count": 40,
   "metadata": {},
   "outputs": [
    {
     "name": "stdout",
     "output_type": "stream",
     "text": [
      "726\n",
      "11111100111\n"
     ]
    }
   ],
   "source": [
    "def decimal_a_binario(decimal):\n",
    "    \"\"\"Función que convierte un número decimal en binario.\n",
    "    Parámetros:\n",
    "        decimal: Es un número entero.\n",
    "    Devuelve:\n",
    "        El número binario correspondiente a decimal.\n",
    "    \"\"\"\n",
    "    return bin(decimal)[2:]\n",
    "\n",
    "def binario_a_decimal(binario):\n",
    "    \"\"\"Función que convierte un número binario en decimal.\n",
    "    Parámetros:\n",
    "        binario: Es una cadena de ceros y unos.\n",
    "    Devuelve:\n",
    "        El número decimal correspondiente a binario.\n",
    "    \"\"\"\n",
    "    return int(binario, 2)\n",
    "\n",
    "\n",
    "print(binario_a_decimal('1011010110'))\n",
    "print(decimal_a_binario(2023))"
   ]
  }
 ],
 "metadata": {
  "kernelspec": {
   "display_name": "progra_1",
   "language": "python",
   "name": "python3"
  },
  "language_info": {
   "codemirror_mode": {
    "name": "ipython",
    "version": 3
   },
   "file_extension": ".py",
   "mimetype": "text/x-python",
   "name": "python",
   "nbconvert_exporter": "python",
   "pygments_lexer": "ipython3",
   "version": "3.8.17"
  },
  "orig_nbformat": 4
 },
 "nbformat": 4,
 "nbformat_minor": 2
}
