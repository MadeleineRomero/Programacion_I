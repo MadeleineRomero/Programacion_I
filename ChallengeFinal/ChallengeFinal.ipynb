{
 "cells": [
  {
   "cell_type": "markdown",
   "metadata": {},
   "source": [
    "## PROGRAMACIÓN I\n",
    "\n",
    "Nombre: Madeleine Yameli Romero Rayas\n",
    "\n",
    "Código: 207549458\n",
    "\n",
    "Maestría en Ciencia de los Datos (CUCEA)"
   ]
  },
  {
   "cell_type": "markdown",
   "metadata": {},
   "source": [
    "## Challenge de Fin de Curso: \"Python Data Journey\"\n",
    "\n",
    "### Descripción del Challenge\n",
    "#### El Gran Analizador de Texto Python (GATPy):\n",
    "Crearás un script de Python denominado GATPy. Este script leerá un archivo de texto provisto por el usuario (por ejemplo, un libro de dominio público de Project Gutenberg). Luego, calculará y presentará lo siguiente:\n",
    "* La frecuencia de cada palabra en el texto.\n",
    "* Las 5 palabras más comunes y su conteo.\n",
    "* La cantidad de palabras únicas en el documento.\n",
    "* Opcional: Una nube de palabras generada a partir del texto.\n",
    "\n",
    "Además, el script generará un archivo de salida .txt con los resultados del análisis y una visualización simple si optas por la funcionalidad opcional.\n"
   ]
  },
  {
   "cell_type": "code",
   "execution_count": null,
   "metadata": {
    "vscode": {
     "languageId": "plaintext"
    }
   },
   "outputs": [],
   "source": []
  }
 ],
 "metadata": {
  "kernelspec": {
   "display_name": "progra_1",
   "language": "python",
   "name": "python3"
  },
  "language_info": {
   "codemirror_mode": {
    "name": "ipython",
    "version": 3
   },
   "file_extension": ".py",
   "mimetype": "text/x-python",
   "name": "python",
   "nbconvert_exporter": "python",
   "pygments_lexer": "ipython3",
   "version": "3.8.17"
  },
  "orig_nbformat": 4
 },
 "nbformat": 4,
 "nbformat_minor": 2
}
