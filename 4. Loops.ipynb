{
 "cells": [
  {
   "attachments": {},
   "cell_type": "markdown",
   "metadata": {},
   "source": [
    "## PROGRAMACIÓN I\n",
    "\n",
    "Nombre: Madeleine Yameli Romero Rayas\n",
    "\n",
    "Código: 207549458\n",
    "\n",
    "Maestría en Ciencia de los Datos (CUCEA)"
   ]
  },
  {
   "attachments": {},
   "cell_type": "markdown",
   "metadata": {},
   "source": [
    "## Bucles  o Loops"
   ]
  },
  {
   "attachments": {},
   "cell_type": "markdown",
   "metadata": {},
   "source": [
    "Un bucle es una estructura de control que permite repetir un conjunto de instrucciones varias veces. Los bucles son una parte fundamental de la programación, ya que te permiten automatizar tareas que requieren repetición. Python admite dos tipos principales de bucles: el bucle \"for\" y el bucle \"while\".\n",
    "\n",
    "**Bucle \"for\"** : \n",
    "\n",
    "El bucle \"for\" se utiliza para iterar sobre una secuencia (como una lista, una tupla, una cadena de caracteres o un rango numérico) y ejecutar un bloque de código para cada elemento de la secuencia. Aquí tienes un ejemplo de un bucle \"for\" que recorre una lista de números e imprime cada número:\n",
    "\n"
   ]
  },
  {
   "cell_type": "code",
   "execution_count": 79,
   "metadata": {},
   "outputs": [],
   "source": [
    "#numeros = [1, 2, 3, 4, 5]\n",
    "#for numero in numeros:\n",
    "#    print(numero)"
   ]
  },
  {
   "attachments": {},
   "cell_type": "markdown",
   "metadata": {},
   "source": [
    "**Bucle \"while\"** :\n",
    "\n",
    "El bucle \"while\" se utiliza para repetir un bloque de código mientras una condición sea verdadera. En otras palabras, el bucle continuará ejecutándose mientras la condición especificada sea cierta. Aquí tienes un ejemplo de un bucle \"while\" que cuenta del 1 al 5:\n",
    "\n"
   ]
  },
  {
   "cell_type": "code",
   "execution_count": 80,
   "metadata": {},
   "outputs": [],
   "source": [
    "#contador = 1\n",
    "#while contador <= 5:\n",
    "#    print(contador)\n",
    "#    contador += 1"
   ]
  },
  {
   "attachments": {},
   "cell_type": "markdown",
   "metadata": {},
   "source": [
    "**Ejercicio 1**\n",
    "\n",
    "Escribir un programa que pida al usuario una palabra y la muestre 10 veces por pantalla."
   ]
  },
  {
   "cell_type": "code",
   "execution_count": 81,
   "metadata": {},
   "outputs": [
    {
     "name": "stdout",
     "output_type": "stream",
     "text": [
      "Hola\n",
      "Hola\n",
      "Hola\n",
      "Hola\n",
      "Hola\n",
      "Hola\n",
      "Hola\n",
      "Hola\n",
      "Hola\n",
      "Hola\n"
     ]
    }
   ],
   "source": [
    "# SOLUCIÓN 1\n",
    "\n",
    "word = input(\"Escribe una palabra: \")\n",
    "\n",
    "contador = 1\n",
    "while contador <= 10:\n",
    "    print(word)\n",
    "    contador += 1"
   ]
  },
  {
   "cell_type": "code",
   "execution_count": 82,
   "metadata": {},
   "outputs": [
    {
     "name": "stdout",
     "output_type": "stream",
     "text": [
      "Hola\n",
      "Hola\n",
      "Hola\n",
      "Hola\n",
      "Hola\n",
      "Hola\n",
      "Hola\n",
      "Hola\n",
      "Hola\n",
      "Hola\n"
     ]
    }
   ],
   "source": [
    "# SOLUCIÓN 2\n",
    "word = input(\"Escribe una palabra: \")\n",
    "\n",
    "for i in range(10):\n",
    "    print(word)"
   ]
  },
  {
   "attachments": {},
   "cell_type": "markdown",
   "metadata": {},
   "source": [
    "**Ejercicio  2**\n",
    "\n",
    "Escribir un programa que pregunte al usuario su edad y muestre por pantalla todos los años que ha cumplido (desde 1 hasta su edad)."
   ]
  },
  {
   "cell_type": "code",
   "execution_count": 2,
   "metadata": {},
   "outputs": [
    {
     "name": "stdout",
     "output_type": "stream",
     "text": [
      "Has cumplido 1 años\n",
      "Has cumplido 2 años\n",
      "Has cumplido 3 años\n",
      "Has cumplido 4 años\n",
      "Has cumplido 5 años\n",
      "Has cumplido 6 años\n",
      "Has cumplido 7 años\n",
      "Has cumplido 8 años\n",
      "Has cumplido 9 años\n",
      "Has cumplido 10 años\n",
      "Has cumplido 11 años\n",
      "Has cumplido 12 años\n",
      "Has cumplido 13 años\n",
      "Has cumplido 14 años\n",
      "Has cumplido 15 años\n",
      "Has cumplido 16 años\n",
      "Has cumplido 17 años\n",
      "Has cumplido 18 años\n",
      "Has cumplido 19 años\n",
      "Has cumplido 20 años\n",
      "Has cumplido 21 años\n",
      "Has cumplido 22 años\n",
      "Has cumplido 23 años\n",
      "Has cumplido 24 años\n",
      "Has cumplido 25 años\n",
      "Has cumplido 26 años\n",
      "Has cumplido 27 años\n",
      "Has cumplido 28 años\n",
      "Has cumplido 29 años\n",
      "Has cumplido 30 años\n",
      "Has cumplido 31 años\n"
     ]
    }
   ],
   "source": [
    "age = int(input(\"¿Cuál es tu edad? \"))\n",
    "\n",
    "for i in range(age):\n",
    "    print(\"Has cumplido\", str(i+1) + \" años\")"
   ]
  },
  {
   "attachments": {},
   "cell_type": "markdown",
   "metadata": {},
   "source": [
    "**Ejercicio 3**\n",
    "\n",
    "Escribir un programa que pida al usuario un número entero positivo y muestre por pantalla todos los números impares desde 1 hasta ese número separados por comas."
   ]
  },
  {
   "cell_type": "code",
   "execution_count": 84,
   "metadata": {},
   "outputs": [
    {
     "name": "stdout",
     "output_type": "stream",
     "text": [
      "1,\n",
      "3,\n",
      "5,\n",
      "7,\n",
      "9,\n",
      "11,\n",
      "13,\n",
      "15,\n"
     ]
    }
   ],
   "source": [
    "#SOLUCIÓN 1\n",
    "\n",
    "numero = int(input(\"Por favor ingrese un número entero positivo: \"))\n",
    "\n",
    "for i in range(1, numero+1):\n",
    "    if i % 2 != 0:\n",
    "        print((str(i)) + \",\")\n",
    "\n"
   ]
  },
  {
   "cell_type": "code",
   "execution_count": 85,
   "metadata": {},
   "outputs": [
    {
     "name": "stdout",
     "output_type": "stream",
     "text": [
      "1, 3, 5, 7, 9, 11, 13, 15, "
     ]
    }
   ],
   "source": [
    "#SOLUCIÓN 2\n",
    "\n",
    "numero = int(input(\"Por favor ingrese un número entero positivo: \"))\n",
    "for i in range(1, numero+1, 2):\n",
    "    print(i, end=\", \")"
   ]
  },
  {
   "attachments": {},
   "cell_type": "markdown",
   "metadata": {},
   "source": [
    "**Ejercicio 4**\n",
    "\n",
    "Escribir un programa que pida al usuario un número entero positivo y muestre por pantalla la cuenta atrás desde ese número hasta cero separados por comas."
   ]
  },
  {
   "cell_type": "code",
   "execution_count": 86,
   "metadata": {},
   "outputs": [
    {
     "name": "stdout",
     "output_type": "stream",
     "text": [
      "15,\n",
      "14,\n",
      "13,\n",
      "12,\n",
      "11,\n",
      "10,\n",
      "9,\n",
      "8,\n",
      "7,\n",
      "6,\n",
      "5,\n",
      "4,\n",
      "3,\n",
      "2,\n",
      "1,\n",
      "0,\n"
     ]
    }
   ],
   "source": [
    "#SOLUCIÓN 1\n",
    "\n",
    "numero = int(input(\"Por favor ingrese un número entero positivo: \"))\n",
    "\n",
    "while numero >= 0:\n",
    "    print (str(numero) + \",\")\n",
    "    numero = numero -1"
   ]
  },
  {
   "cell_type": "code",
   "execution_count": 87,
   "metadata": {},
   "outputs": [
    {
     "name": "stdout",
     "output_type": "stream",
     "text": [
      "15, 14, 13, 12, 11, 10, 9, 8, 7, 6, 5, 4, 3, 2, 1, 0, "
     ]
    }
   ],
   "source": [
    "#SOLUCIÓN 2\n",
    "\n",
    "numero = int(input(\"Por favor ingrese un número entero positivo: \"))\n",
    "\n",
    "for i in range(numero, -1, -1):\n",
    "    print(i, end=\", \")"
   ]
  },
  {
   "attachments": {},
   "cell_type": "markdown",
   "metadata": {},
   "source": [
    "**Ejercicio 5**\n",
    "\n",
    "Escribir un programa que pregunte al usuario una cantidad a invertir, el interés anual y el número de años, y muestre por pantalla el capital obtenido en la inversión cada año que dura la inversión."
   ]
  },
  {
   "cell_type": "code",
   "execution_count": 88,
   "metadata": {},
   "outputs": [
    {
     "name": "stdout",
     "output_type": "stream",
     "text": [
      "El capital después de 1 años de inversión es: 12500.0\n",
      "El capital después de 2 años de inversión es: 15625.0\n",
      "El capital después de 3 años de inversión es: 19531.25\n",
      "El capital después de 4 años de inversión es: 24414.06\n",
      "El capital después de 5 años de inversión es: 30517.58\n",
      "El capital después de 6 años de inversión es: 38146.97\n",
      "El capital después de 7 años de inversión es: 47683.72\n",
      "El capital después de 8 años de inversión es: 59604.64\n",
      "El capital después de 9 años de inversión es: 74505.81\n",
      "El capital después de 10 años de inversión es: 93132.26\n"
     ]
    }
   ],
   "source": [
    "cantidad = float(input(\"Indique la cantidad a invertir: \"))\n",
    "interes = float(input(\"Indique el porcentaje interés anual: \"))\n",
    "años = int(input(\"Indique el número de años de la inversion: \"))\n",
    "\n",
    "for i in range (años):\n",
    "    cantidad = cantidad * (1 + (interes / 100))\n",
    "    print(\"El capital después de \" + str(i+1) + \" años de inversión es: \" + str(round(cantidad, 2)))\n",
    "    \n"
   ]
  },
  {
   "attachments": {},
   "cell_type": "markdown",
   "metadata": {},
   "source": [
    "**Ejercicio 6**\n",
    "\n",
    "\n",
    "Escribir un programa que pida al usuario un número entero y muestre por pantalla un triángulo rectángulo como el de más abajo, de altura el número introducido.\n",
    "\n",
    "```\n",
    "*\n",
    "**\n",
    "***\n",
    "****\n",
    "*****\n",
    "```"
   ]
  },
  {
   "cell_type": "code",
   "execution_count": 89,
   "metadata": {},
   "outputs": [
    {
     "name": "stdout",
     "output_type": "stream",
     "text": [
      "*\n",
      "**\n",
      "***\n",
      "****\n",
      "*****\n",
      "******\n",
      "*******\n",
      "********\n"
     ]
    }
   ],
   "source": [
    "#SOLUCIÓN 1\n",
    "\n",
    "numero = int(input(\"Por favor ingrese un número entero positivo que indique la altura del triángulo: \"))\n",
    "\n",
    "contador = 1\n",
    "\n",
    "while contador <= numero:\n",
    "    print (\"*\" * contador)\n",
    "    contador += 1"
   ]
  },
  {
   "cell_type": "code",
   "execution_count": 90,
   "metadata": {},
   "outputs": [
    {
     "name": "stdout",
     "output_type": "stream",
     "text": [
      "*\n",
      "**\n",
      "***\n",
      "****\n",
      "*****\n",
      "******\n",
      "*******\n",
      "********\n"
     ]
    }
   ],
   "source": [
    "#SOLUCIÓN 2\n",
    "numero = int(input(\"Por favor ingrese un número entero positivo que indique la altura del triángulo: \"))\n",
    "\n",
    "for i in range (numero):\n",
    "    print(\"*\" * (i+1))\n"
   ]
  },
  {
   "attachments": {},
   "cell_type": "markdown",
   "metadata": {},
   "source": [
    "**Ejercicio 7**\n",
    "\n",
    "Escribir un programa que muestre por pantalla la tabla de multiplicar del 1 al 10."
   ]
  },
  {
   "cell_type": "code",
   "execution_count": 91,
   "metadata": {},
   "outputs": [
    {
     "name": "stdout",
     "output_type": "stream",
     "text": [
      "1\t2\t3\t4\t5\t6\t7\t8\t9\t10\t\n",
      "2\t4\t6\t8\t10\t12\t14\t16\t18\t20\t\n",
      "3\t6\t9\t12\t15\t18\t21\t24\t27\t30\t\n",
      "4\t8\t12\t16\t20\t24\t28\t32\t36\t40\t\n",
      "5\t10\t15\t20\t25\t30\t35\t40\t45\t50\t\n",
      "6\t12\t18\t24\t30\t36\t42\t48\t54\t60\t\n",
      "7\t14\t21\t28\t35\t42\t49\t56\t63\t70\t\n",
      "8\t16\t24\t32\t40\t48\t56\t64\t72\t80\t\n",
      "9\t18\t27\t36\t45\t54\t63\t72\t81\t90\t\n",
      "10\t20\t30\t40\t50\t60\t70\t80\t90\t100\t\n"
     ]
    }
   ],
   "source": [
    "for i in range(1, 11):\n",
    "    for j in range(1, 11):\n",
    "        print(i * j, end=\"\\t\")\n",
    "    print()\n"
   ]
  },
  {
   "attachments": {},
   "cell_type": "markdown",
   "metadata": {},
   "source": [
    "**Ejercicio 8**\n",
    "\n",
    "Escribir un programa que pida al usuario un número entero y muestre por pantalla un triángulo rectángulo como el de más abajo, de altura el número introducido.\n",
    "\n",
    "```\n",
    "1\n",
    "3 1\n",
    "5 3 1\n",
    "7 5 3 1\n",
    "9 7 5 3 1\n",
    "```"
   ]
  },
  {
   "cell_type": "code",
   "execution_count": 92,
   "metadata": {},
   "outputs": [
    {
     "name": "stdout",
     "output_type": "stream",
     "text": [
      "1 \n",
      "3 1 \n",
      "5 3 1 \n",
      "7 5 3 1 \n",
      "9 7 5 3 1 \n",
      "11 9 7 5 3 1 \n"
     ]
    }
   ],
   "source": [
    "numero = int(input(\"Por favor ingrese un número entero positivo que indique la altura del triángulo: \"))\n",
    "\n",
    "for i in range(1, numero + 1):\n",
    "    for j in range(i, 0, -1):\n",
    "        print(2 * j - 1, end=\" \")\n",
    "    print()"
   ]
  },
  {
   "attachments": {},
   "cell_type": "markdown",
   "metadata": {},
   "source": [
    "**Ejercicio 9**\n",
    "\n",
    "Escribir un programa que almacene la cadena de caracteres `contraseña` en una variable, pregunte al usuario por la contraseña hasta que introduzca la contraseña correcta."
   ]
  },
  {
   "cell_type": "code",
   "execution_count": 93,
   "metadata": {},
   "outputs": [
    {
     "name": "stdout",
     "output_type": "stream",
     "text": [
      "Contraseña Incorrecta\n",
      "Contraseña Incorrecta\n",
      "Contraseña Incorrecta\n",
      "Contraseña correcta\n"
     ]
    }
   ],
   "source": [
    "key = \"contraseña\"\n",
    "password = input(\"Cuál es la contraseña?\")\n",
    "\n",
    "while key != password:\n",
    "    print(\"Contraseña Incorrecta\")\n",
    "    password = input(\"Cuál es la contraseña?\")\n",
    "print(\"Contraseña correcta\")\n"
   ]
  },
  {
   "attachments": {},
   "cell_type": "markdown",
   "metadata": {},
   "source": [
    "**Ejercicio 10**\n",
    "\n",
    "Escribir un programa que pida al usuario un número entero positivo mayor que 2 y muestre por pantalla si es un número primo o no."
   ]
  },
  {
   "cell_type": "code",
   "execution_count": 94,
   "metadata": {},
   "outputs": [
    {
     "name": "stdout",
     "output_type": "stream",
     "text": [
      "15 no es un número primo\n"
     ]
    }
   ],
   "source": [
    "n = int(input(\"Por favor ingrese un número entero positivo mayor que 2: \"))\n",
    "i = 2\n",
    "\n",
    "while n % i != 0:\n",
    "    i += 1\n",
    "if i == n:\n",
    "    print(str(n) + \" es un número primo\")\n",
    "else:\n",
    "    print(str(n) + \" no es un número primo\")"
   ]
  }
 ],
 "metadata": {
  "kernelspec": {
   "display_name": "progra_1",
   "language": "python",
   "name": "python3"
  },
  "language_info": {
   "codemirror_mode": {
    "name": "ipython",
    "version": 3
   },
   "file_extension": ".py",
   "mimetype": "text/x-python",
   "name": "python",
   "nbconvert_exporter": "python",
   "pygments_lexer": "ipython3",
   "version": "3.8.17"
  },
  "orig_nbformat": 4
 },
 "nbformat": 4,
 "nbformat_minor": 2
}
