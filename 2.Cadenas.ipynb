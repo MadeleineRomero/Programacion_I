{
 "cells": [
  {
   "attachments": {},
   "cell_type": "markdown",
   "metadata": {},
   "source": [
    "## PROGRAMACIÓN I\n",
    "\n",
    "Nombre: Madeleine Yameli Romero Rayas\n",
    "\n",
    "Código: 207549458\n",
    "\n",
    "Maestría en Ciencia de los Datos (CUCEA)\n"
   ]
  },
  {
   "attachments": {},
   "cell_type": "markdown",
   "metadata": {},
   "source": [
    "## Cadenas o String\n",
    "\n",
    "En programación Python, una cadena (string en inglés) es una secuencia de caracteres Unicode, es decir, una serie de caracteres, números, símbolos y espacios en blanco que se utilizan para representar texto. Las cadenas se utilizan para manipular y trabajar con datos de texto en un programa Python. Puedes crear cadenas utilizando comillas simples (' '), comillas dobles (\" \"), o comillas triples (''' ''' o \"\"\" \"\"\") para abarcar múltiples líneas."
   ]
  },
  {
   "cell_type": "code",
   "execution_count": 12,
   "metadata": {},
   "outputs": [],
   "source": [
    "cadena_1 = \"Hola, mundo!\"\n",
    "cadena_2 = \"Python es genial\"\n",
    "cadena_3 = '''Este es un ejemplo\n",
    "de una cadena que abarca\n",
    "varias lineas'''"
   ]
  },
  {
   "cell_type": "code",
   "execution_count": 13,
   "metadata": {},
   "outputs": [
    {
     "data": {
      "text/plain": [
       "'Hola, mundo!'"
      ]
     },
     "execution_count": 13,
     "metadata": {},
     "output_type": "execute_result"
    }
   ],
   "source": [
    "cadena_1"
   ]
  },
  {
   "cell_type": "code",
   "execution_count": 14,
   "metadata": {},
   "outputs": [
    {
     "data": {
      "text/plain": [
       "'Este es un ejemplo\\nde una cadena que abarca\\nvarias lineas'"
      ]
     },
     "execution_count": 14,
     "metadata": {},
     "output_type": "execute_result"
    }
   ],
   "source": [
    "cadena_1\n",
    "cadena_2\n",
    "cadena_3"
   ]
  },
  {
   "cell_type": "code",
   "execution_count": 15,
   "metadata": {},
   "outputs": [
    {
     "name": "stdout",
     "output_type": "stream",
     "text": [
      "Hola, mundo!\n",
      "Python es genial\n",
      "Este es un ejemplo\n",
      "de una cadena que abarca\n",
      "varias lineas\n"
     ]
    }
   ],
   "source": [
    "print(cadena_1)\n",
    "print(cadena_2)\n",
    "print(cadena_3)"
   ]
  },
  {
   "cell_type": "code",
   "execution_count": 16,
   "metadata": {},
   "outputs": [
    {
     "name": "stdout",
     "output_type": "stream",
     "text": [
      "Hola, mundo\n",
      "H\n",
      "Saludos\n",
      "['Hola,', 'mundo']\n",
      "4\n"
     ]
    }
   ],
   "source": [
    "cadena1 = \"Hola\"\n",
    "cadena2 = \"mundo\"\n",
    "\n",
    "# Concatenación de cadenas\n",
    "concatenada = cadena1 + \", \" + cadena2  # Resultado: \"Hola, mundo\"\n",
    "print(concatenada)\n",
    "\n",
    "# Acceso a caracteres individuales (indexación)\n",
    "primer_caracter = cadena1[0]  # Resultado: \"H\"\n",
    "print(primer_caracter)\n",
    "\n",
    "# Reemplazar una subcadena\n",
    "nueva_cadena = cadena1.replace(\"Hola\", \"Saludos\")  # Resultado: \"Saludos\"\n",
    "print(nueva_cadena)\n",
    "\n",
    "# Dividir una cadena en palabras\n",
    "palabras = concatenada.split()  # Resultado: [\"mundo\"]\n",
    "print(palabras)\n",
    "\n",
    "# Obtener la longitud de una cadena\n",
    "longitud = len(cadena1)  # Resultado: 4\n",
    "print(longitud)"
   ]
  },
  {
   "attachments": {},
   "cell_type": "markdown",
   "metadata": {},
   "source": [
    "## Ejercicio 1\n",
    "\n",
    "Escribir un programa que pregunte el nombre del usuario en la consola y un número entero e imprima por pantalla en líneas distintas el nombre del usuario tantas veces como el número introducido."
   ]
  },
  {
   "cell_type": "code",
   "execution_count": 17,
   "metadata": {},
   "outputs": [
    {
     "name": "stdout",
     "output_type": "stream",
     "text": [
      "Madeleine\n",
      "Madeleine\n",
      "Madeleine\n",
      "Madeleine\n",
      "Madeleine\n",
      "Madeleine\n",
      "Madeleine\n",
      "Madeleine\n",
      "Madeleine\n",
      "Madeleine\n",
      "\n"
     ]
    }
   ],
   "source": [
    "nombre = input(\"Introduce tu nombre: \")\n",
    "n = int(input(\"Introduce un número entero: \"))\n",
    "print((nombre + \"\\n\") * int(n))"
   ]
  },
  {
   "attachments": {},
   "cell_type": "markdown",
   "metadata": {},
   "source": [
    "## Ejercicio 2\n",
    "\n",
    "Escribir un programa que pregunte el nombre completo del usuario en la consola y después muestre por pantalla el nombre completo del usuario tres veces, una con todas las letras minúsculas, otra con todas las letras mayúsculas y otra solo con la primera letra del nombre y de los apellidos en mayúscula. El usuario puede introducir su nombre combinando mayúsculas y minúsculas como"
   ]
  },
  {
   "cell_type": "code",
   "execution_count": 18,
   "metadata": {},
   "outputs": [
    {
     "name": "stdout",
     "output_type": "stream",
     "text": [
      "madeleine yameli romero rayas\n",
      "MADELEINE YAMELI ROMERO RAYAS\n",
      "Madeleine Yameli Romero Rayas\n",
      "Madeleine yameli romero rayas\n"
     ]
    }
   ],
   "source": [
    "nombre_completo = input(\"Introduce tu nombre completo: \")\n",
    "print(nombre_completo.lower())\n",
    "print(nombre_completo.upper())\n",
    "print(nombre_completo.title())\n",
    "print(nombre_completo.capitalize())\n"
   ]
  },
  {
   "cell_type": "code",
   "execution_count": 19,
   "metadata": {},
   "outputs": [
    {
     "name": "stdout",
     "output_type": "stream",
     "text": [
      "Madeleine\n",
      "La cuarta letra del nombre es: e\n"
     ]
    }
   ],
   "source": [
    "nombre_completo = input(\"Introduce tu nombre completo: \")\n",
    "print(nombre_completo)\n",
    "print(\"La cuarta letra del nombre es:\", nombre_completo[3])"
   ]
  },
  {
   "attachments": {},
   "cell_type": "markdown",
   "metadata": {},
   "source": [
    "## Ejercicio 3 \n",
    "\n",
    "Escribir un programa que pregunte el nombre del usuario en la consola y después de que el usuario lo introduzca muestre por pantalla `<NOMBRE> tiene <n> letras`, donde `<NOMBRE>` es el nombre de usuario en mayúsculas y `<n>` es el número de letras que tienen el nombre."
   ]
  },
  {
   "cell_type": "code",
   "execution_count": 20,
   "metadata": {},
   "outputs": [
    {
     "name": "stdout",
     "output_type": "stream",
     "text": [
      "MADELEINE tiene 9 letras\n",
      "MADELEINE tiene 9 letras\n"
     ]
    }
   ],
   "source": [
    "nombre = input(\"Introduce tu nombre: \")\n",
    "#Usando comas\n",
    "print(nombre.upper(), \"tiene\", str(len(nombre)), \"letras\")\n",
    "#Usando +, se deben indicar los espacios entre palabras\n",
    "print(nombre.upper()+ \" tiene \"+ str(len(nombre))+ \" letras\")"
   ]
  },
  {
   "attachments": {},
   "cell_type": "markdown",
   "metadata": {},
   "source": [
    "## Ejercicio 4\n",
    "\n",
    "Los teléfonos de una empresa tienen el siguiente formato `prefijo-número-extension` donde el prefijo es el código del país `+52`, y la extensión tiene dos dígitos (por ejemplo `+52-3348253517-56`). Escribir un programa que pregunte por un número de teléfono con este formato en la consola y muestre por pantalla el número de teléfono sin el prefijo y la extensión."
   ]
  },
  {
   "cell_type": "code",
   "execution_count": 21,
   "metadata": {},
   "outputs": [
    {
     "name": "stdout",
     "output_type": "stream",
     "text": [
      "El número de teléfono es  3317728376\n"
     ]
    }
   ],
   "source": [
    "tel = input(\"Introduce el número de teléfono en formato +xx-xxxxxxxxxx-xx: \")\n",
    "print(\"El número de teléfono es \", tel[4:-3])\n"
   ]
  },
  {
   "attachments": {},
   "cell_type": "markdown",
   "metadata": {},
   "source": [
    "# Actividades de Tarea"
   ]
  },
  {
   "attachments": {},
   "cell_type": "markdown",
   "metadata": {},
   "source": [
    "## Ejercicio 5\n",
    "\n",
    "Escribir un programa que pida al usuario que introduzca una frase en la consola y muestre por pantalla la frase invertida."
   ]
  },
  {
   "cell_type": "code",
   "execution_count": 22,
   "metadata": {},
   "outputs": [
    {
     "name": "stdout",
     "output_type": "stream",
     "text": [
      "!saíd soneuB\n"
     ]
    }
   ],
   "source": [
    "frase = input(\"Introduce una frase: \")\n",
    "print(frase[::-1])"
   ]
  },
  {
   "attachments": {},
   "cell_type": "markdown",
   "metadata": {},
   "source": [
    "## Ejercicio 6\n",
    "\n",
    "Escribir un programa que pida al usuario que introduzca una frase en la consola y una vocal en minúscula, y después muestre por pantalla la misma frase pero con la vocal introducida en mayúscula."
   ]
  },
  {
   "cell_type": "code",
   "execution_count": 23,
   "metadata": {},
   "outputs": [
    {
     "name": "stdout",
     "output_type": "stream",
     "text": [
      "HOla, ¿CómO estás?\n"
     ]
    }
   ],
   "source": [
    "frase = input(\"Introduce una frase: \")\n",
    "vocal = input(\"Indica que vocal quieres cambiar a mayúscula: \")\n",
    "print(frase.replace(vocal, vocal.upper()))"
   ]
  },
  {
   "attachments": {},
   "cell_type": "markdown",
   "metadata": {},
   "source": [
    "## Ejercicio 7\n",
    "\n",
    "Escribir un programa que pregunte el correo electrónico del usuario en la consola y muestre por pantalla otro correo electrónico con el mismo nombre (la parte delante de la arroba `@`) pero con dominio `cucea.ugd.mx`."
   ]
  },
  {
   "cell_type": "code",
   "execution_count": 24,
   "metadata": {},
   "outputs": [
    {
     "name": "stdout",
     "output_type": "stream",
     "text": [
      "madeleine.romero4945@cucea.udg.mx\n"
     ]
    }
   ],
   "source": [
    "correo = input(\"Introduce tu correo electrónico: \")\n",
    "print(correo[:correo.find('@')] + '@cucea.udg.mx')"
   ]
  },
  {
   "attachments": {},
   "cell_type": "markdown",
   "metadata": {},
   "source": [
    "## Ejercicio 8\n",
    "\n",
    "Escribir un programa que pregunte por consola el precio de un producto en pesos con dos decimales y muestre por pantalla el número de euros y el número de céntavos del precio introducido."
   ]
  },
  {
   "cell_type": "code",
   "execution_count": 25,
   "metadata": {},
   "outputs": [
    {
     "name": "stdout",
     "output_type": "stream",
     "text": [
      "15 euros y 45 centavos\n"
     ]
    }
   ],
   "source": [
    "precio = input(\"Introduce el precio de un producto con dos decimales:  \")\n",
    "print(precio[:precio.find('.')], 'euros y', precio[precio.find('.')+1:], 'centavos')"
   ]
  },
  {
   "attachments": {},
   "cell_type": "markdown",
   "metadata": {},
   "source": [
    "## Ejercicio 9\n",
    "\n",
    "Escribir un programa que pregunte al usuario la fecha de su nacimiento en formato `dd/mm/aaaa` y muestra por pantalla, el día, el mes y el año."
   ]
  },
  {
   "cell_type": "code",
   "execution_count": 26,
   "metadata": {},
   "outputs": [
    {
     "name": "stdout",
     "output_type": "stream",
     "text": [
      "Día: 11\n",
      "Mes: 08\n",
      "Año: 1992\n"
     ]
    }
   ],
   "source": [
    "nacimiento = input(\"Introduce la fecha de tu nacimiento en formato dd/mm/aaaa: \")\n",
    "print('Día:', nacimiento[:2])\n",
    "print('Mes:', nacimiento[3:5])\n",
    "print('Año:', nacimiento[6:])"
   ]
  },
  {
   "attachments": {},
   "cell_type": "markdown",
   "metadata": {},
   "source": [
    "## Ejercicio 10\n",
    "\n",
    "Escribir un programa que pregunte por consola por los productos de una cesta de la compra, separados por comas, y muestre por pantalla cada uno de los productos en una línea distinta."
   ]
  },
  {
   "cell_type": "code",
   "execution_count": 27,
   "metadata": {},
   "outputs": [
    {
     "name": "stdout",
     "output_type": "stream",
     "text": [
      "carne\n",
      "huevo\n",
      "pescado\n",
      "manzanas\n",
      "peras\n",
      "pasta\n"
     ]
    }
   ],
   "source": [
    "productos = input('Introduce los productos de la cesta de la compra separados por comas: ')\n",
    "print(productos.replace(',', '\\n'))"
   ]
  }
 ],
 "metadata": {
  "kernelspec": {
   "display_name": "progra_1",
   "language": "python",
   "name": "python3"
  },
  "language_info": {
   "codemirror_mode": {
    "name": "ipython",
    "version": 3
   },
   "file_extension": ".py",
   "mimetype": "text/x-python",
   "name": "python",
   "nbconvert_exporter": "python",
   "pygments_lexer": "ipython3",
   "version": "3.8.17"
  },
  "orig_nbformat": 4
 },
 "nbformat": 4,
 "nbformat_minor": 2
}
