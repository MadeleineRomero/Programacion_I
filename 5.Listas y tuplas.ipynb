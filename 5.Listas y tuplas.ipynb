{
 "cells": [
  {
   "attachments": {},
   "cell_type": "markdown",
   "metadata": {},
   "source": [
    "## PROGRAMACIÓN I\n",
    "\n",
    "Nombre: Madeleine Yameli Romero Rayas\n",
    "\n",
    "Código: 207549458\n",
    "\n",
    "Maestría en Ciencia de los Datos (CUCEA)"
   ]
  },
  {
   "attachments": {},
   "cell_type": "markdown",
   "metadata": {},
   "source": [
    "## Listas o tuplas\n",
    "\n",
    "Las listas y las tuplas son dos tipos de estructuras de datos que se utilizan para almacenar colecciones de elementos. Sin embargo, tienen algunas diferencias clave:\n",
    "\n",
    "**Listas (Lists):**\n",
    "\n",
    "Las listas se definen utilizando corchetes [  ].\n",
    "Son mutables, lo que significa que se pueden modificar después de su creación. Puedes agregar, eliminar y cambiar elementos en una lista.\n",
    "Se pueden utilizar para almacenar una colección ordenada de elementos de diferentes tipos (números, cadenas, objetos, etc.).\n",
    "Ejemplo: **mi_lista = [1, 2, 3, 'cuatro']**\n",
    "\n",
    "**Tuplas (Tuples):**\n",
    "\n",
    "Las tuplas se definen utilizando paréntesis ().\n",
    "Son inmutables, lo que significa que no se pueden modificar una vez creadas. No puedes agregar, eliminar ni cambiar elementos en una tupla.\n",
    "Se utilizan para almacenar colecciones ordenadas de elementos, al igual que las listas, pero su inmutabilidad puede ser útil en ciertos contextos.\n",
    "Ejemplo: **mi_tupla = (1, 2, 3, 'cuatro')**"
   ]
  },
  {
   "attachments": {},
   "cell_type": "markdown",
   "metadata": {},
   "source": [
    "**Lista**\n",
    "\n",
    "<pre>\n",
    "   <code>\n",
    "      mi_lista = [1, 2, 3] \n",
    "      mi_lista.append(4)                 # Agrega un elemento al final\n",
    "      mi_lista[1] = 5                    # Cambia el segundo elemento\n",
    "      del mi_lista[0]                    # Elimina el primer elemento\n",
    "   </code>\n",
    "</pre>\n",
    "\n",
    "**Tupla**\n",
    "\n",
    "<pre>\n",
    "   <code>\n",
    "      mi_tupla = (1, 2, 3)\n",
    "   </code>\n",
    "</pre>\n",
    "\n",
    "\n",
    "No se pueden hacer modificaciones en una tupla, por lo que no hay métodos como append, remove o pop para ellas"
   ]
  },
  {
   "attachments": {},
   "cell_type": "markdown",
   "metadata": {},
   "source": [
    "**Ejercicio 1**\n",
    "\n",
    "Escribir un programa que almacene las asignaturas de un curso (por ejemplo Matemáticas, Física, Química, Historia y Lengua) en una lista y la muestre por pantalla."
   ]
  },
  {
   "cell_type": "code",
   "execution_count": 1,
   "metadata": {},
   "outputs": [
    {
     "name": "stdout",
     "output_type": "stream",
     "text": [
      "['Matemáticas', 'Física', 'Química', 'Historia', 'Lengua']\n"
     ]
    }
   ],
   "source": [
    "asignaturas = ['Matemáticas', 'Física', 'Química', 'Historia', 'Lengua']\n",
    "print(asignaturas)"
   ]
  },
  {
   "attachments": {},
   "cell_type": "markdown",
   "metadata": {},
   "source": [
    "**Ejercicio 2**\n",
    "\n",
    "Escribir un programa que almacene las asignaturas de un curso (por ejemplo Matemáticas, Física, Química, Historia y Lengua) en una lista, y después muestre cada una de las asignaturas con el prefijo \"Yo estudio\" + el nombre de la asignatura en la pantalla."
   ]
  },
  {
   "cell_type": "code",
   "execution_count": 2,
   "metadata": {},
   "outputs": [
    {
     "name": "stdout",
     "output_type": "stream",
     "text": [
      "Yo estudio Matemáticas\n",
      "Yo estudio Física\n",
      "Yo estudio Química\n",
      "Yo estudio Historia\n",
      "Yo estudio Lengua\n"
     ]
    }
   ],
   "source": [
    "asignaturas = ['Matemáticas', 'Física', 'Química', 'Historia', 'Lengua']\n",
    "for asignatura in asignaturas:\n",
    "    print(\"Yo estudio \" + asignatura)"
   ]
  },
  {
   "cell_type": "code",
   "execution_count": 2,
   "metadata": {},
   "outputs": [
    {
     "name": "stdout",
     "output_type": "stream",
     "text": [
      "Yo estudio Matemáticas\n",
      "Yo estudio Física\n",
      "Yo estudio Química\n",
      "Yo estudio Historia\n",
      "Yo estudio Lengua\n"
     ]
    }
   ],
   "source": [
    "asignaturas = ['Matemáticas', 'Física', 'Química', 'Historia', 'Lengua']\n",
    "for i in range(len(asignaturas)):\n",
    "    print(\"Yo estudio \" + asignaturas[i])"
   ]
  },
  {
   "attachments": {},
   "cell_type": "markdown",
   "metadata": {},
   "source": [
    "**Ejercicio 3**\n",
    "\n",
    "Escribir un programa que almacene las asignaturas de un curso (por ejemplo Matemáticas, Física, Química, Historia y Lengua) en una lista y le pregunte al usuario que calificación obtuvo en cada asignatura, al final muestre por pantalla la calificación obtenida en cada una de las materias."
   ]
  },
  {
   "cell_type": "code",
   "execution_count": 3,
   "metadata": {},
   "outputs": [
    {
     "name": "stdout",
     "output_type": "stream",
     "text": [
      "En Matemáticas has obtenido \n",
      "En Física has obtenido 100\n",
      "En Química has obtenido 95\n",
      "En Historia has obtenido 98\n",
      "En Lengua has obtenido 85\n"
     ]
    }
   ],
   "source": [
    "asignaturas = ['Matemáticas', 'Física', 'Química', 'Historia', 'Lengua']\n",
    "calificaciones = []\n",
    "\n",
    "for asignatura in asignaturas:\n",
    "    calificacion = input(\"¿Que calificación obtuviste en \" + asignatura + \"? \")\n",
    "    calificaciones.append(calificacion)\n",
    "\n",
    "for i in range (len(asignaturas)):\n",
    "    print(\"En \" + asignaturas[i] + \" has obtenido \" + calificaciones[i])"
   ]
  },
  {
   "attachments": {},
   "cell_type": "markdown",
   "metadata": {},
   "source": [
    "**Ejercicio 4**\n",
    "\n",
    "Escribir un programa que pregunte al usuario los números ganadores de la lotería primitiva, los almacene en una lista y los muestre por pantalla ordenados de menor a mayor. Considerando que la lotería primitiva tiene 6 números."
   ]
  },
  {
   "cell_type": "code",
   "execution_count": 4,
   "metadata": {},
   "outputs": [
    {
     "name": "stdout",
     "output_type": "stream",
     "text": [
      "Los números ganadores son: [0, 2, 4, 5, 7, 9]\n"
     ]
    }
   ],
   "source": [
    "# SOLUCIÓN 1\n",
    "\n",
    "numeros_ganadores = []\n",
    "\n",
    "for i in range(6):\n",
    "    numero_ganador = int(input(\"Indique un número ganador: \"))\n",
    "    numeros_ganadores.append(numero_ganador)\n",
    "\n",
    "numeros_ganadores.sort()\n",
    "print(\"Los números ganadores son: \" + str(numeros_ganadores))\n"
   ]
  },
  {
   "cell_type": "code",
   "execution_count": 5,
   "metadata": {},
   "outputs": [
    {
     "name": "stdout",
     "output_type": "stream",
     "text": [
      "Los números ganadores son: [0, 2, 4, 5, 7, 9]\n"
     ]
    }
   ],
   "source": [
    "# SOLUCIÓN 2\n",
    "numeros_ganadores = []\n",
    "\n",
    "for i in range(6):\n",
    "    numeros_ganadores.append(int(input(\"Indique un número ganador: \")))\n",
    "\n",
    "numeros_ganadores.sort()\n",
    "print(\"Los números ganadores son: \" + str(numeros_ganadores))"
   ]
  },
  {
   "attachments": {},
   "cell_type": "markdown",
   "metadata": {},
   "source": [
    "**Ejercicio 5**\n",
    "\n",
    "Escribir un programa que almacene en una lista los números del 1 al 10 y los muestre por pantalla en orden inverso separados por comas."
   ]
  },
  {
   "cell_type": "code",
   "execution_count": 6,
   "metadata": {},
   "outputs": [
    {
     "name": "stdout",
     "output_type": "stream",
     "text": [
      "[10, 9, 8, 7, 6, 5, 4, 3, 2, 1]\n"
     ]
    }
   ],
   "source": [
    "# SOLUCIÓN 1\n",
    "\n",
    "numeros = [1, 2, 3, 4, 5, 6, 7, 8, 9, 10]\n",
    "numeros.sort(reverse=True)\n",
    "print(numeros)"
   ]
  },
  {
   "cell_type": "code",
   "execution_count": 7,
   "metadata": {},
   "outputs": [
    {
     "name": "stdout",
     "output_type": "stream",
     "text": [
      "10, 9, 8, 7, 6, 5, 4, 3, 2, 1, "
     ]
    }
   ],
   "source": [
    "# SOLUCIÓN 2\n",
    "\n",
    "numeros = [1, 2, 3, 4, 5, 6, 7, 8, 9, 10]\n",
    "\n",
    "for i in range(1, 11):\n",
    "    print(numeros[-i], end=\", \")\n"
   ]
  },
  {
   "attachments": {},
   "cell_type": "markdown",
   "metadata": {},
   "source": [
    "**Ejercicio 6**\n",
    "\n",
    "Escribir un programa que almacene las asignaturas de un curso (por ejemplo Matemáticas, Física, Química, Historia y Lengua) en una lista, pregunte al usuario la nota que ha sacado en cada asignatura y elimine de la lista las asignaturas aprobadas. Al final el programa debe mostrar por pantalla las asignaturas que el usuario tiene que repetir."
   ]
  },
  {
   "cell_type": "code",
   "execution_count": 8,
   "metadata": {},
   "outputs": [
    {
     "name": "stdout",
     "output_type": "stream",
     "text": [
      "Tienes que repetir ['Física', 'Historia']\n"
     ]
    }
   ],
   "source": [
    "# SOLUCIÓN 1\n",
    "\n",
    "asignaturas = ['Matemáticas', 'Física', 'Química', 'Historia', 'Lengua']\n",
    "reprobadas = []\n",
    "\n",
    "for asignatura in asignaturas:\n",
    "    calificacion = float(input(\"¿Que calificación obtuviste del 1 al 10 en \" + asignatura + \"? \"))\n",
    "    if calificacion < 6:\n",
    "        reprobadas.append(asignatura)\n",
    "\n",
    "print(\"Tienes que repetir \" + str(reprobadas))"
   ]
  },
  {
   "cell_type": "code",
   "execution_count": 9,
   "metadata": {},
   "outputs": [
    {
     "name": "stdout",
     "output_type": "stream",
     "text": [
      "Tienes que repetir ['Física', 'Historia']\n"
     ]
    }
   ],
   "source": [
    "# SOLUCIÓN 2\n",
    "\n",
    "asignaturas = ['Matemáticas', 'Física', 'Química', 'Historia', 'Lengua']\n",
    "aprobadas = []\n",
    "\n",
    "for asignatura in asignaturas:\n",
    "    calificacion = float(input(\"¿Que calificación del 1 al 10 obtuviste en \" + asignatura + \"? \"))\n",
    "    if calificacion >= 6:\n",
    "        aprobadas.append(asignatura)\n",
    "for asignatura in aprobadas:\n",
    "    asignaturas.remove(asignatura)\n",
    "print(\"Tienes que repetir \" + str(asignaturas))"
   ]
  },
  {
   "attachments": {},
   "cell_type": "markdown",
   "metadata": {},
   "source": [
    "**Ejercicio  7**\n",
    "\n",
    "Escribir un programa que almacene el abecedario en una lista, elimine de la lista las letras que ocupen posiciones múltiplos de 3, y muestre por pantalla la lista resultante."
   ]
  },
  {
   "cell_type": "code",
   "execution_count": 10,
   "metadata": {},
   "outputs": [
    {
     "name": "stdout",
     "output_type": "stream",
     "text": [
      "['a', 'b', 'd', 'e', 'g', 'h', 'j', 'k', 'm', 'n', 'o', 'p', 'r', 's', 'u', 'v', 'x', 'y']\n"
     ]
    }
   ],
   "source": [
    "abecedario = ['a', 'b', 'c', 'd', 'e', 'f', 'g', 'h', 'i', 'j', 'k', 'l', 'm', 'n', 'ñ', 'o', 'p', 'q', 'r', 's', 't', 'u', 'v', 'w', 'x', 'y', 'z']\n",
    "\n",
    "for i in range(len(abecedario), 1, -1):\n",
    "    if i % 3 == 0:\n",
    "        abecedario.pop(i-1)\n",
    "print(abecedario)"
   ]
  },
  {
   "attachments": {},
   "cell_type": "markdown",
   "metadata": {},
   "source": [
    "**Ejercicio 8**\n",
    "\n",
    "Escribir un programa que pida al usuario una palabra y muestre por pantalla si es un palíndromo."
   ]
  },
  {
   "cell_type": "code",
   "execution_count": 11,
   "metadata": {},
   "outputs": [
    {
     "name": "stdout",
     "output_type": "stream",
     "text": [
      "La palabra arenera es un palíndromo\n"
     ]
    }
   ],
   "source": [
    "# SOLUCIÓN 1\n",
    "\n",
    "palabra = input(\"Escribe una palabra para verificar si es un palíndromo: \")\n",
    "\n",
    "if palabra == palabra[::-1]:\n",
    "    print(\"La palabra \" + palabra + \" es un palíndromo\")\n",
    "else:\n",
    "    print(\"La palabra \" + palabra + \" no es un palíndromo\")\n"
   ]
  },
  {
   "cell_type": "code",
   "execution_count": 12,
   "metadata": {},
   "outputs": [
    {
     "name": "stdout",
     "output_type": "stream",
     "text": [
      "La palabra es un palíndromo\n"
     ]
    }
   ],
   "source": [
    "# SOLUCIÓN 2\n",
    "\n",
    "palabra = input(\"Escribe una palabra para verificar si es un palíndromo: \")\n",
    "palabra_alreves = palabra\n",
    "palabra = list(palabra)\n",
    "palabra_alreves = list(palabra_alreves)\n",
    "palabra_alreves.reverse()\n",
    "if palabra == palabra_alreves:\n",
    "    print(\"La palabra es un palíndromo\")\n",
    "else:\n",
    "    print(\"La palabra no es un palíndromo\")"
   ]
  },
  {
   "attachments": {},
   "cell_type": "markdown",
   "metadata": {},
   "source": [
    "**Ejercicio 9**\n",
    "\n",
    "Escribir un programa que pida al usuario una palabra y muestre por pantalla el número de veces que contiene cada vocal."
   ]
  },
  {
   "cell_type": "code",
   "execution_count": 13,
   "metadata": {},
   "outputs": [
    {
     "name": "stdout",
     "output_type": "stream",
     "text": [
      "La vocal a aparece 1 veces en la palabra Madeleine\n",
      "La vocal e aparece 3 veces en la palabra Madeleine\n",
      "La vocal i aparece 1 veces en la palabra Madeleine\n",
      "La vocal o aparece 0 veces en la palabra Madeleine\n",
      "La vocal u aparece 0 veces en la palabra Madeleine\n"
     ]
    }
   ],
   "source": [
    "# SOLUCIÓN 1\n",
    "\n",
    "palabra = input(\"Introduce una palabra: \")\n",
    "vocales = ['a', 'e', 'i', 'o', 'u']\n",
    "\n",
    "for vocal in vocales:\n",
    "    cantidad = palabra.lower().count(vocal)\n",
    "    print(\"La vocal \" + vocal + \" aparece \" + str(cantidad) + \" veces en la palabra \" + palabra )"
   ]
  },
  {
   "cell_type": "code",
   "execution_count": 14,
   "metadata": {},
   "outputs": [
    {
     "name": "stdout",
     "output_type": "stream",
     "text": [
      "La vocal a aparece 1 veces en la palabra Madeleine\n",
      "La vocal e aparece 3 veces en la palabra Madeleine\n",
      "La vocal i aparece 1 veces en la palabra Madeleine\n",
      "La vocal o aparece 0 veces en la palabra Madeleine\n",
      "La vocal u aparece 0 veces en la palabra Madeleine\n"
     ]
    }
   ],
   "source": [
    "# SOLUCIÓN 2\n",
    "\n",
    "palabra = input(\"Introduce una palabra: \")\n",
    "vocales = ['a', 'e', 'i', 'o', 'u']\n",
    "for vocal in vocales: \n",
    "    cantidad = 0\n",
    "    for letra in palabra: \n",
    "        if letra == vocal:\n",
    "            cantidad += 1\n",
    "    print(\"La vocal \" + vocal + \" aparece \" + str(cantidad) + \" veces en la palabra \" + palabra )"
   ]
  },
  {
   "attachments": {},
   "cell_type": "markdown",
   "metadata": {},
   "source": [
    "**Ejercicio 10**\n",
    "\n",
    "Escribir un programa que almacene en una lista los siguientes precios, 50, 75, 46, 22, 80, 65, 8, y muestre por pantalla el menor y el mayor de los precios."
   ]
  },
  {
   "cell_type": "code",
   "execution_count": 15,
   "metadata": {},
   "outputs": [
    {
     "name": "stdout",
     "output_type": "stream",
     "text": [
      "El menor de los precios es: 8\n",
      "El mayor de los precios es: 80\n"
     ]
    }
   ],
   "source": [
    "precios = [50, 75, 46, 22, 80, 65, 8]\n",
    "\n",
    "print(\"El menor de los precios es: \" + str(min(precios)))\n",
    "print(\"El mayor de los precios es: \" + str(max(precios)))"
   ]
  },
  {
   "cell_type": "code",
   "execution_count": 16,
   "metadata": {},
   "outputs": [
    {
     "name": "stdout",
     "output_type": "stream",
     "text": [
      "El menor de los precios es: 8\n",
      "El mayor de los precios es: 80\n"
     ]
    }
   ],
   "source": [
    "precios = [50, 75, 46, 22, 80, 65, 8]\n",
    "\n",
    "menor = mayor = precios[0]\n",
    "\n",
    "for precio in precios:\n",
    "    if precio < menor:\n",
    "        menor = precio\n",
    "    elif precio > mayor:\n",
    "        mayor = precio\n",
    "\n",
    "print(\"El menor de los precios es: \" + str(menor)) \n",
    "print(\"El mayor de los precios es: \" + str(mayor))"
   ]
  }
 ],
 "metadata": {
  "kernelspec": {
   "display_name": "progra_1",
   "language": "python",
   "name": "python3"
  },
  "language_info": {
   "codemirror_mode": {
    "name": "ipython",
    "version": 3
   },
   "file_extension": ".py",
   "mimetype": "text/x-python",
   "name": "python",
   "nbconvert_exporter": "python",
   "pygments_lexer": "ipython3",
   "version": "3.8.17"
  },
  "orig_nbformat": 4
 },
 "nbformat": 4,
 "nbformat_minor": 2
}
